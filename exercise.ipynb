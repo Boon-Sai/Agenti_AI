{
 "cells": [
  {
   "cell_type": "code",
   "execution_count": 16,
   "id": "47815044",
   "metadata": {},
   "outputs": [],
   "source": [
    "from dotenv import load_dotenv\n",
    "load_dotenv()\n",
    "\n",
    "import os\n",
    "\n",
    "os.environ['GROQ_API_KEY'] = os.getenv('GROQ_API_KEY')"
   ]
  },
  {
   "cell_type": "markdown",
   "id": "0094df84",
   "metadata": {},
   "source": [
    "## declaring tools"
   ]
  },
  {
   "cell_type": "code",
   "execution_count": 6,
   "id": "532464d3",
   "metadata": {},
   "outputs": [],
   "source": [
    "def add(a: int, b: int) -> int:\n",
    "    \"\"\"\n",
    "    Add the two numbers\n",
    "    args:\n",
    "        a : first integer\n",
    "        b : second integer\n",
    "    \"\"\"\n",
    "    return a + b\n",
    "\n",
    "def mult(a: int, b: int) -> int:\n",
    "    \"\"\"\n",
    "    Multiply the two numbers\n",
    "    args:\n",
    "        a : first integer\n",
    "        b : second integer\n",
    "    \"\"\"\n",
    "    return a * b\n",
    "\n",
    "def divide(a: int, b: int) -> float:\n",
    "    \"\"\"\n",
    "    divide the two numbers\n",
    "    args:\n",
    "        a : first integer\n",
    "        b : second integer\n",
    "    \"\"\"\n",
    "    return a / b"
   ]
  },
  {
   "cell_type": "code",
   "execution_count": 7,
   "id": "e6ac95d7",
   "metadata": {},
   "outputs": [],
   "source": [
    "tools = [add, mult, divide]"
   ]
  },
  {
   "cell_type": "markdown",
   "id": "dbef503c",
   "metadata": {},
   "source": [
    "## invoking model"
   ]
  },
  {
   "cell_type": "code",
   "execution_count": 9,
   "id": "08610361",
   "metadata": {},
   "outputs": [],
   "source": [
    "from langchain_groq import ChatGroq\n",
    "LLM = ChatGroq(model = \"llama-3.1-8b-instant\")"
   ]
  },
  {
   "cell_type": "markdown",
   "id": "f2239f6f",
   "metadata": {},
   "source": [
    "## Bind the model with the LLM"
   ]
  },
  {
   "cell_type": "code",
   "execution_count": 10,
   "id": "e9cfd2b5",
   "metadata": {},
   "outputs": [],
   "source": [
    "llm_with_tools = LLM.bind_tools(tools)"
   ]
  },
  {
   "cell_type": "code",
   "execution_count": null,
   "id": "e2572912",
   "metadata": {},
   "outputs": [],
   "source": [
    "def llm_tool()"
   ]
  },
  {
   "cell_type": "markdown",
   "id": "00bd90d1",
   "metadata": {},
   "source": [
    "## Creating the stageGraph and nodes"
   ]
  },
  {
   "cell_type": "code",
   "execution_count": 17,
   "id": "64c63749",
   "metadata": {},
   "outputs": [],
   "source": [
    "from pydantic import BaseModel\n",
    "from langgraph.graph.message import add_messages\n",
    "from typing import Annotated\n",
    "\n",
    "class State(BaseModel):\n",
    "    messages: Annotated[list, add_messages]"
   ]
  },
  {
   "cell_type": "code",
   "execution_count": 28,
   "id": "9974b020",
   "metadata": {},
   "outputs": [],
   "source": [
    "def llm_tool(state: State):\n",
    "    return {'messages': [llm_with_tools.invoke(state.messages)]}"
   ]
  },
  {
   "cell_type": "markdown",
   "id": "3383a1a4",
   "metadata": {},
   "source": [
    "# Building the Graph"
   ]
  },
  {
   "cell_type": "code",
   "execution_count": 30,
   "id": "5c50d66b",
   "metadata": {},
   "outputs": [
    {
     "data": {
      "image/png": "[encoded data removed]",
      "text/plain": [
       "<IPython.core.display.Image object>"
      ]
     },
     "metadata": {},
     "output_type": "display_data"
    }
   ],
   "source": [
    "from langgraph.graph import StateGraph, START, END\n",
    "from langgraph.prebuilt import ToolNode, tools_condition\n",
    "from langgraph.checkpoint.memory import MemorySaver\n",
    "from IPython.display import display, Image\n",
    "\n",
    "memory = MemorySaver()\n",
    "\n",
    "builder = StateGraph(State)\n",
    "builder.add_node('llm', llm_tool)\n",
    "builder.add_node('tools', ToolNode(tools))\n",
    "\n",
    "builder.add_edge(START, 'llm')\n",
    "builder.add_conditional_edges('llm', tools_condition)\n",
    "builder.add_edge('tools', 'llm')\n",
    "builder.add_edge('llm', END)\n",
    "\n",
    "graph = builder.compile(checkpointer=memory)\n",
    "\n",
    "\n",
    "display(Image(graph.get_graph().draw_mermaid_png()))\n",
    "\n",
    "\n"
   ]
  },
  {
   "cell_type": "code",
   "execution_count": 34,
   "id": "46279839",
   "metadata": {},
   "outputs": [],
   "source": [
    "config = {\n",
    "    \"configurable\" : {\n",
    "        \"thread_id\": '1'\n",
    "    }\n",
    "}"
   ]
  },
  {
   "cell_type": "code",
   "execution_count": 39,
   "id": "76a53863",
   "metadata": {},
   "outputs": [],
   "source": [
    "from langchain_core.messages import HumanMessage\n",
    "from pprint import pprint"
   ]
  },
  {
   "cell_type": "code",
   "execution_count": 41,
   "id": "a0056d5b",
   "metadata": {},
   "outputs": [
    {
     "name": "stdout",
     "output_type": "stream",
     "text": [
      "================================\u001b[1m Human Message \u001b[0m=================================\n",
      "\n",
      "add 6 snd 10\n",
      "==================================\u001b[1m Ai Message \u001b[0m==================================\n",
      "Tool Calls:\n",
      "  add (h5kbwcr1d)\n",
      " Call ID: h5kbwcr1d\n",
      "  Args:\n",
      "    a: 6\n",
      "    b: 10\n",
      "=================================\u001b[1m Tool Message \u001b[0m=================================\n",
      "Name: add\n",
      "\n",
      "16\n",
      "==================================\u001b[1m Ai Message \u001b[0m==================================\n",
      "\n",
      "The result of the function 'add' with arguments 6 and 10 is 16.\n",
      "================================\u001b[1m Human Message \u001b[0m=================================\n",
      "\n",
      "add 6 snd 10\n",
      "==================================\u001b[1m Ai Message \u001b[0m==================================\n",
      "Tool Calls:\n",
      "  add (tafw54p9n)\n",
      " Call ID: tafw54p9n\n",
      "  Args:\n",
      "    a: 6\n",
      "    b: 10\n",
      "=================================\u001b[1m Tool Message \u001b[0m=================================\n",
      "Name: add\n",
      "\n",
      "16\n",
      "==================================\u001b[1m Ai Message \u001b[0m==================================\n",
      "\n",
      "The result of the function 'add' with arguments 6 and 10 is 16.\n",
      "================================\u001b[1m Human Message \u001b[0m=================================\n",
      "\n",
      "add 6 snd 10\n",
      "==================================\u001b[1m Ai Message \u001b[0m==================================\n",
      "Tool Calls:\n",
      "  add (f6bt3180v)\n",
      " Call ID: f6bt3180v\n",
      "  Args:\n",
      "    a: 6\n",
      "    b: 10\n",
      "=================================\u001b[1m Tool Message \u001b[0m=================================\n",
      "Name: add\n",
      "\n",
      "16\n",
      "==================================\u001b[1m Ai Message \u001b[0m==================================\n",
      "\n",
      "The result of the function 'add' with arguments 6 and 10 is 16.\n",
      "================================\u001b[1m Human Message \u001b[0m=================================\n",
      "\n",
      "add 6 snd 10\n",
      "==================================\u001b[1m Ai Message \u001b[0m==================================\n",
      "Tool Calls:\n",
      "  add (jx89qcnxd)\n",
      " Call ID: jx89qcnxd\n",
      "  Args:\n",
      "    a: 6\n",
      "    b: 10\n",
      "=================================\u001b[1m Tool Message \u001b[0m=================================\n",
      "Name: add\n",
      "\n",
      "16\n",
      "==================================\u001b[1m Ai Message \u001b[0m==================================\n",
      "\n",
      "The result of the function 'add' with arguments 6 and 10 is 16.\n"
     ]
    }
   ],
   "source": [
    "msg = HumanMessage(content=\"add 6 snd 10\")\n",
    "msg = graph.invoke({\"messages\": msg}, config = config)\n",
    "for m in msg['messages']:\n",
    "    m.pretty_print()"
   ]
  },
  {
   "cell_type": "code",
   "execution_count": 42,
   "id": "ae282569",
   "metadata": {},
   "outputs": [
    {
     "name": "stdout",
     "output_type": "stream",
     "text": [
      "================================\u001b[1m Human Message \u001b[0m=================================\n",
      "\n",
      "add 6 snd 10\n",
      "==================================\u001b[1m Ai Message \u001b[0m==================================\n",
      "Tool Calls:\n",
      "  add (h5kbwcr1d)\n",
      " Call ID: h5kbwcr1d\n",
      "  Args:\n",
      "    a: 6\n",
      "    b: 10\n",
      "=================================\u001b[1m Tool Message \u001b[0m=================================\n",
      "Name: add\n",
      "\n",
      "16\n",
      "==================================\u001b[1m Ai Message \u001b[0m==================================\n",
      "\n",
      "The result of the function 'add' with arguments 6 and 10 is 16.\n",
      "================================\u001b[1m Human Message \u001b[0m=================================\n",
      "\n",
      "add 6 snd 10\n",
      "==================================\u001b[1m Ai Message \u001b[0m==================================\n",
      "Tool Calls:\n",
      "  add (tafw54p9n)\n",
      " Call ID: tafw54p9n\n",
      "  Args:\n",
      "    a: 6\n",
      "    b: 10\n",
      "=================================\u001b[1m Tool Message \u001b[0m=================================\n",
      "Name: add\n",
      "\n",
      "16\n",
      "==================================\u001b[1m Ai Message \u001b[0m==================================\n",
      "\n",
      "The result of the function 'add' with arguments 6 and 10 is 16.\n",
      "================================\u001b[1m Human Message \u001b[0m=================================\n",
      "\n",
      "add 6 snd 10\n",
      "==================================\u001b[1m Ai Message \u001b[0m==================================\n",
      "Tool Calls:\n",
      "  add (f6bt3180v)\n",
      " Call ID: f6bt3180v\n",
      "  Args:\n",
      "    a: 6\n",
      "    b: 10\n",
      "=================================\u001b[1m Tool Message \u001b[0m=================================\n",
      "Name: add\n",
      "\n",
      "16\n",
      "==================================\u001b[1m Ai Message \u001b[0m==================================\n",
      "\n",
      "The result of the function 'add' with arguments 6 and 10 is 16.\n",
      "================================\u001b[1m Human Message \u001b[0m=================================\n",
      "\n",
      "add 6 snd 10\n",
      "==================================\u001b[1m Ai Message \u001b[0m==================================\n",
      "Tool Calls:\n",
      "  add (jx89qcnxd)\n",
      " Call ID: jx89qcnxd\n",
      "  Args:\n",
      "    a: 6\n",
      "    b: 10\n",
      "=================================\u001b[1m Tool Message \u001b[0m=================================\n",
      "Name: add\n",
      "\n",
      "16\n",
      "==================================\u001b[1m Ai Message \u001b[0m==================================\n",
      "\n",
      "The result of the function 'add' with arguments 6 and 10 is 16.\n",
      "================================\u001b[1m Human Message \u001b[0m=================================\n",
      "\n",
      "nuw multiply it with 10\n",
      "==================================\u001b[1m Ai Message \u001b[0m==================================\n",
      "Tool Calls:\n",
      "  mult (rqb1rnnme)\n",
      " Call ID: rqb1rnnme\n",
      "  Args:\n",
      "    a: 16\n",
      "    b: 10\n",
      "=================================\u001b[1m Tool Message \u001b[0m=================================\n",
      "Name: mult\n",
      "\n",
      "160\n",
      "==================================\u001b[1m Ai Message \u001b[0m==================================\n",
      "\n",
      "The result of the function 'mult' with arguments 16 and 10 is 160.\n"
     ]
    }
   ],
   "source": [
    "msg = HumanMessage(content=\"nuw multiply it with 10\")\n",
    "msg = graph.invoke({\"messages\": msg}, config = config)\n",
    "for m in msg['messages']:\n",
    "    m.pretty_print()"
   ]
  },
  {
   "cell_type": "code",
   "execution_count": null,
   "id": "606c205d",
   "metadata": {},
   "outputs": [],
   "source": []
  }
 ],
 "metadata": {
  "kernelspec": {
   "display_name": "Python 3",
   "language": "python",
   "name": "python3"
  },
  "language_info": {
   "codemirror_mode": {
    "name": "ipython",
    "version": 3
   },
   "file_extension": ".py",
   "mimetype": "text/x-python",
   "name": "python",
   "nbconvert_exporter": "python",
   "pygments_lexer": "ipython3",
   "version": "3.11.0"
  }
 },
 "nbformat": 4,
 "nbformat_minor": 5
}
