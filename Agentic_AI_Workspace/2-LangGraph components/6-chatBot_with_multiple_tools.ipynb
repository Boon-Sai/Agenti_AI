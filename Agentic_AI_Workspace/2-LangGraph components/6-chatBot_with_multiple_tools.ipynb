{
 "cells": [
  {
   "cell_type": "markdown",
   "id": "5afc02b0",
   "metadata": {},
   "source": [
    "### Building chatbot with multiple tools using LangGraph\n",
    "\n",
    "### Aim\n",
    "Create a chatbot with tool capabilities from arxiv, wikipedia search and some functions "
   ]
  },
  {
   "cell_type": "markdown",
   "id": "fc9e92ea",
   "metadata": {},
   "source": [
    "# here is the link for langchain tools which we can use it in langGraph aswell: \n",
    "\n",
    "## https://python.langchain.com/docs/integrations/tools/"
   ]
  },
  {
   "cell_type": "code",
   "execution_count": 1,
   "id": "6c70abc3",
   "metadata": {},
   "outputs": [],
   "source": [
    "from langchain_community.tools import ArxivQueryRun, WikipediaQueryRun\n",
    "from langchain_community.utilities import ArxivAPIWrapper, WikipediaAPIWrapper\n"
   ]
  },
  {
   "cell_type": "code",
   "execution_count": 2,
   "id": "2e93568c",
   "metadata": {},
   "outputs": [
    {
     "name": "stdout",
     "output_type": "stream",
     "text": [
      "arxiv\n"
     ]
    }
   ],
   "source": [
    "api_wrapper_arxiv = ArxivAPIWrapper(top_k_results=2, doc_content_chars_max=500)\n",
    "arxiv=ArxivQueryRun(api_wrapper=api_wrapper_arxiv)\n",
    "print(arxiv.name)"
   ]
  },
  {
   "cell_type": "code",
   "execution_count": 7,
   "id": "049ed441",
   "metadata": {},
   "outputs": [
    {
     "data": {
      "text/plain": [
       "\"Published: 2024-07-22\\nTitle: Attention Is All You Need But You Don't Need All Of It For Inference of Large Language Models\\nAuthors: Georgy Tyukin, Gbetondji J-S Dovonon, Jean Kaddour, Pasquale Minervini\\nSummary: The inference demand for LLMs has skyrocketed in recent months, and serving\\nmodels with low latencies remains challenging due to the quadratic input length\\ncomplexity of the attention layers. In this work, we investigate the effect of\\ndropping MLP and attention layers at inference time o\""
      ]
     },
     "execution_count": 7,
     "metadata": {},
     "output_type": "execute_result"
    }
   ],
   "source": [
    "arxiv.invoke(\"Attention is all you need\")"
   ]
  },
  {
   "cell_type": "code",
   "execution_count": 5,
   "id": "6eda5985",
   "metadata": {},
   "outputs": [
    {
     "name": "stdout",
     "output_type": "stream",
     "text": [
      "wikipedia\n"
     ]
    }
   ],
   "source": [
    "wiki_wrapper_arxiv = WikipediaAPIWrapper(top_k_results=2, doc_content_chars_max=500)\n",
    "wiki=WikipediaQueryRun(api_wrapper=wiki_wrapper_arxiv)\n",
    "print(wiki.name)"
   ]
  },
  {
   "cell_type": "code",
   "execution_count": 10,
   "id": "b6495728",
   "metadata": {},
   "outputs": [
    {
     "data": {
      "text/plain": [
       "'Page: Machine learning\\nSummary: Machine learning (ML) is a field of study in artificial intelligence concerned with the development and study of statistical algorithms that can learn from data and generalise to unseen data, and thus perform tasks without explicit instructions. Within a subdiscipline in machine learning, advances in the field of deep learning have allowed neural networks, a class of statistical algorithms, to surpass many previous machine learning approaches in performance.\\nML fi'"
      ]
     },
     "execution_count": 10,
     "metadata": {},
     "output_type": "execute_result"
    }
   ],
   "source": [
    "wiki.invoke(\"What is Machine learning?\")"
   ]
  },
  {
   "cell_type": "code",
   "execution_count": 22,
   "id": "c7b8a0d8",
   "metadata": {},
   "outputs": [],
   "source": [
    "from dotenv import load_dotenv\n",
    "\n",
    "load_dotenv()\n",
    "\n",
    "import os\n",
    "\n",
    "os.environ['GROQ_API_KEY'] = os.getenv('GROQ_API_KEY')\n",
    "os.environ['TAVILY_API_KEY'] = os.getenv('TAVILY_API_KEY')"
   ]
  },
  {
   "cell_type": "code",
   "execution_count": 23,
   "id": "28f21ed4",
   "metadata": {},
   "outputs": [],
   "source": [
    "# Tavily search tool\n",
    "\n",
    "from langchain_community.tools.tavily_search import TavilySearchResults\n",
    "\n",
    "tavily = TavilySearchResults()"
   ]
  },
  {
   "cell_type": "markdown",
   "id": "ef972819",
   "metadata": {},
   "source": [
    "## Creating tools\n"
   ]
  },
  {
   "cell_type": "code",
   "execution_count": 24,
   "id": "dd9b548b",
   "metadata": {},
   "outputs": [],
   "source": [
    "tools = [arxiv, wiki, tavily]"
   ]
  },
  {
   "cell_type": "code",
   "execution_count": 26,
   "id": "04423c72",
   "metadata": {},
   "outputs": [],
   "source": [
    "## initializing the LLM model\n",
    "\n",
    "from langchain_groq import ChatGroq\n",
    "LLM = ChatGroq(model=\"llama-3.1-8b-instant\")\n",
    "\n",
    "llm_with_tools = LLM.bind_tools(tools)"
   ]
  },
  {
   "cell_type": "code",
   "execution_count": 27,
   "id": "62458aad",
   "metadata": {},
   "outputs": [
    {
     "data": {
      "text/plain": [
       "AIMessage(content='', additional_kwargs={'tool_calls': [{'id': 'jmq26937b', 'function': {'arguments': '{\"query\":\"recent AI news\"}', 'name': 'tavily_search_results_json'}, 'type': 'function'}]}, response_metadata={'token_usage': {'completion_tokens': 20, 'prompt_tokens': 554, 'total_tokens': 574, 'completion_time': 0.023993037, 'prompt_time': 0.033949571, 'queue_time': 0.054182189, 'total_time': 0.057942608}, 'model_name': 'llama-3.1-8b-instant', 'system_fingerprint': 'fp_33e8adf159', 'service_tier': 'on_demand', 'finish_reason': 'tool_calls', 'logprobs': None}, id='run--cbc3c953-70c1-4e68-abf3-3609d3f1165b-0', tool_calls=[{'name': 'tavily_search_results_json', 'args': {'query': 'recent AI news'}, 'id': 'jmq26937b', 'type': 'tool_call'}], usage_metadata={'input_tokens': 554, 'output_tokens': 20, 'total_tokens': 574})"
      ]
     },
     "execution_count": 27,
     "metadata": {},
     "output_type": "execute_result"
    }
   ],
   "source": [
    "from pprint import pprint\n",
    "from langchain_core.messages import AIMessage, HumanMessage \n",
    "llm_with_tools.invoke([HumanMessage(content=f\"What is the recent AI news?\")])\n"
   ]
  },
  {
   "cell_type": "code",
   "execution_count": 28,
   "id": "5e81b9da",
   "metadata": {},
   "outputs": [
    {
     "data": {
      "text/plain": [
       "[{'name': 'tavily_search_results_json',\n",
       "  'args': {'query': 'recent AI news'},\n",
       "  'id': 't7mmrsgs5',\n",
       "  'type': 'tool_call'}]"
      ]
     },
     "execution_count": 28,
     "metadata": {},
     "output_type": "execute_result"
    }
   ],
   "source": [
    "llm_with_tools.invoke([HumanMessage(content=f\"What is the recent AI news?\")]).tool_calls"
   ]
  },
  {
   "cell_type": "code",
   "execution_count": 31,
   "id": "7b12fa9a",
   "metadata": {},
   "outputs": [],
   "source": [
    "# state schema\n",
    "from pydantic import BaseModel\n",
    "from langgraph.graph.message import add_messages\n",
    "from typing import Annotated\n",
    "\n",
    "class State(BaseModel):\n",
    "    messages: Annotated[list, add_messages]"
   ]
  },
  {
   "cell_type": "code",
   "execution_count": 33,
   "id": "eeb0c1ea",
   "metadata": {},
   "outputs": [],
   "source": [
    "# Creating entire chatbot\n",
    "\n",
    "from IPython.display import display , Image\n",
    "from langgraph.graph import StateGraph, START, END\n",
    "from langgraph.prebuilt import ToolNode, tools_condition\n",
    "\n",
    "# Node definition\n",
    "\n",
    "def tool_calling_llm(state: State):\n",
    "    return {\"messages\": [llm_with_tools.invoke(state.messages)]}"
   ]
  },
  {
   "cell_type": "code",
   "execution_count": 35,
   "id": "aa624504",
   "metadata": {},
   "outputs": [
    {
     "data": {
      "image/png": "[encoded data removed]",
      "text/plain": [
       "<IPython.core.display.Image object>"
      ]
     },
     "metadata": {},
     "output_type": "display_data"
    }
   ],
   "source": [
    "# build graph\n",
    "\n",
    "builder = StateGraph(State)\n",
    "\n",
    "builder.add_node(\"llm\", tool_calling_llm)\n",
    "builder.add_node(\"tools\", ToolNode(tools))\n",
    "\n",
    "builder.add_edge(START, 'llm')\n",
    "builder.add_conditional_edges('llm', tools_condition)\n",
    "builder.add_edge('tools', END)\n",
    "graph = builder.compile()\n",
    "\n",
    "display(Image(graph.get_graph().draw_mermaid_png()))"
   ]
  },
  {
   "cell_type": "code",
   "execution_count": 41,
   "id": "9dad91fd",
   "metadata": {},
   "outputs": [
    {
     "name": "stdout",
     "output_type": "stream",
     "text": [
      "================================\u001b[1m Human Message \u001b[0m=================================\n",
      "\n",
      "what is ATTENTION IS ALL YOU NEED paper about?\n",
      "==================================\u001b[1m Ai Message \u001b[0m==================================\n",
      "Tool Calls:\n",
      "  arxiv (3gsak1g30)\n",
      " Call ID: 3gsak1g30\n",
      "  Args:\n",
      "    query: Attention is All You Need\n",
      "=================================\u001b[1m Tool Message \u001b[0m=================================\n",
      "Name: arxiv\n",
      "\n",
      "Published: 2024-07-22\n",
      "Title: Attention Is All You Need But You Don't Need All Of It For Inference of Large Language Models\n",
      "Authors: Georgy Tyukin, Gbetondji J-S Dovonon, Jean Kaddour, Pasquale Minervini\n",
      "Summary: The inference demand for LLMs has skyrocketed in recent months, and serving\n",
      "models with low latencies remains challenging due to the quadratic input length\n",
      "complexity of the attention layers. In this work, we investigate the effect of\n",
      "dropping MLP and attention layers at inference time o\n"
     ]
    }
   ],
   "source": [
    "message = graph.invoke({\"messages\": HumanMessage(content=\"what is ATTENTION IS ALL YOU NEED paper about?\")})\n",
    "\n",
    "for msg in message['messages']:\n",
    "    msg.pretty_print()"
   ]
  },
  {
   "cell_type": "code",
   "execution_count": 44,
   "id": "d5791309",
   "metadata": {},
   "outputs": [
    {
     "name": "stdout",
     "output_type": "stream",
     "text": [
      "================================\u001b[1m Human Message \u001b[0m=================================\n",
      "\n",
      "1706.03762\n",
      "==================================\u001b[1m Ai Message \u001b[0m==================================\n",
      "Tool Calls:\n",
      "  arxiv (brqxc94jp)\n",
      " Call ID: brqxc94jp\n",
      "  Args:\n",
      "    query: 1706.03762\n",
      "=================================\u001b[1m Tool Message \u001b[0m=================================\n",
      "Name: arxiv\n",
      "\n",
      "Published: 2023-08-02\n",
      "Title: Attention Is All You Need\n",
      "Authors: Ashish Vaswani, Noam Shazeer, Niki Parmar, Jakob Uszkoreit, Llion Jones, Aidan N. Gomez, Lukasz Kaiser, Illia Polosukhin\n",
      "Summary: The dominant sequence transduction models are based on complex recurrent or\n",
      "convolutional neural networks in an encoder-decoder configuration. The best\n",
      "performing models also connect the encoder and decoder through an attention\n",
      "mechanism. We propose a new simple network architecture, the Transformer, base\n"
     ]
    }
   ],
   "source": [
    "# It can even work via paper ID\n",
    "message = graph.invoke({\"messages\": HumanMessage(content=\"1706.03762\")})\n",
    "\n",
    "for msg in message['messages']:\n",
    "    msg.pretty_print()"
   ]
  },
  {
   "cell_type": "code",
   "execution_count": 45,
   "id": "134d90a2",
   "metadata": {},
   "outputs": [
    {
     "name": "stdout",
     "output_type": "stream",
     "text": [
      "================================\u001b[1m Human Message \u001b[0m=================================\n",
      "\n",
      "Provide me the recent AI news form oct 1 2025\n",
      "==================================\u001b[1m Ai Message \u001b[0m==================================\n",
      "Tool Calls:\n",
      "  tavily_search_results_json (wy44swp2c)\n",
      " Call ID: wy44swp2c\n",
      "  Args:\n",
      "    query: AI news October 1 2025\n",
      "=================================\u001b[1m Tool Message \u001b[0m=================================\n",
      "Name: tavily_search_results_json\n",
      "\n",
      "[{\"title\": \"Daily Digest on AI and Emerging Technologies (2 October 2025)\", \"url\": \"https://www.cgspam.org/daily-digest-on-ai-and-emerging-technologies-2-october-2025/\", \"content\": \"(AI Insider – 1 October 2025) OpenAI has signed agreements with Samsung Electronics and SK Hynix to supply high-bandwidth memory chips and build AI data centers in South Korea as part of its $500 billion Stargate infrastructure initiative with Oracle and SoftBank. The letters of intent were finalized in Seoul following a meeting between Sam Altman, President Lee Jae-myung, Jay Y. Lee, and Chey Tae-won. – \\n\\nSecurity\\n\\nEU consistently targeted by diverse yet convergent threat groups [...] (AI Insider – 1 October 2025) Periodic Labs emerged from stealth with a $300 million seed round led by Andreessen Horowitz to build “AI scientists” and autonomous labs, funding hiring, lab scale-up, and initial industry products. Backers include Felicis, DST Global, Accel, NVentures, and individual investors Jeff Bezos, Eric Schmidt, Jeff Dean, and Elad Gil; founders William Fedus and Ekin Dogus Çubuk cite team contributions to ChatGPT, GNoME, Operator/Agent, the attention mechanism, and [...] (AI Insider – 1 October 2025) Nscale secured $433M in a Pre-Series C SAFE, just days after its record-setting $1.1B Series B, with backing from investors including Blue Owl Managed Funds, Dell, NVIDIA, and Nokia. The U.K.-headquartered company provides vertically integrated AI infrastructure — covering compute, networking, storage, managed software, and AI services — through its own and colocated data centers worldwide. With over 50 data centers, a massive GPU pipeline, and global\", \"score\": 0.9485422}, {\"title\": \"AI Tech News October 2025: Amazon, Apple, And Google Unveil ...\", \"url\": \"https://wireunwired.com/ai-tech-news-october-2025-amazon-apple-and-google-unveil-bold-innovations/\", \"content\": \"On 1 October 2025, the technology world witnessed a surge of groundbreaking announcements as Amazon, Apple, and Google each launched ambitious new AI-powered products and strategic pivots. As the fourth quarter began, these tech giants set a new pace for innovation, spotlighting artificial intelligence as the driving force behind the next generation of smart devices and digital experiences.\\n\\n## AI Tech News October 2025\\n\\n### Amazon Debuts AI-Enhanced Devices [...] At its annual fall hardware event on 1 October 2025, Amazon introduced a robust lineup of AI-powered devices, each built to make ambient intelligence a reality in everyday life. The centerpiece was the upgraded Alexa+ assistant, enabling more natural conversations and proactive suggestions. New releases included: [...] In a major strategic shift reported on 1 October 2025, Apple has paused the overhaul of its Vision Pro mixed-reality headset to focus on developing AI-powered smart glasses. This initiative aims to rival Meta’s Ray-Ban glasses, with features like real-time object recognition and seamless iOS integration. Although the Vision Pro launched earlier in 2025 at $3,499, high costs and slow adoption prompted Apple to redirect resources toward more accessible, everyday wearables. Industry insiders\", \"score\": 0.9353998}, {\"title\": \"AI Product Launches October 2025 & Tools for Business Automation\", \"url\": \"https://www.aiapps.com/blog/ai-news-breakthroughs-launches-trends/\", \"content\": \"October 2025 marked a pivotal moment for artificial intelligence, redefining how automation, creativity, and business processes are approached. These advancements not only pushed AI's potential further but also reshaped strategies across industries. Generative and agent-based AI models raised the bar for user expectations, while multimodal and context-aware tools made AI feel more natural and user-friendly. [...] Synthetic data also plays a role in promoting responsible AI development. By using balanced and representative datasets, companies can build AI systems that are more fair and accurate, addressing biases and ensuring inclusivity in their applications.\\n\\nNew AI Technologies and Product Launches\\n\\nOctober 2025 has brought a wave of exciting AI product launches, with major tech companies and startups introducing tools that align with trends in automation, education, and data analysis across the U.S. [...] The trends set in motion during October 2025 are poised to influence the AI industry for years to come. This period of rapid advancement is paving the way for broader AI adoption. With increasingly sophisticated technologies - from generative models to synthetic data solutions - and discovery platforms like AI Apps, businesses of all sizes are better equipped to harness AI for growth and innovation.\\n\\nFAQs\", \"score\": 0.8991304}, {\"title\": \"The Latest AI News and AI Breakthroughs that Matter Most: 2025\", \"url\": \"https://www.crescendo.ai/news/latest-ai-news-and-updates\", \"content\": \"Source:CBS News\\n\\n### AI ‘Actress’ Tilly Norwood Triggers Hollywood Backlash\\n\\nDate: October 2, 2025\\n\\nSummary: AI‑generated “actress” Tilly Norwood, created by comedian and technologist Eline Van der Velden, has sparked outrage in Hollywood after news broke that agents were in talks to sign her. [...] Summary: Reveal HealthTech, an AI-powered healthcare startup based in Bengaluru and the U.S., raised $7.2 million in a Series A round led by Leo Capital, with continued support from Sanos Capital, W Health Ventures, and 2070 Health. The funding will bolster its core products, BioCanvas, which accelerates clinical trial recruitment using multimodal AI, and Prism AI, which automates healthcare workflows and improves patient adherence. Co-founded by Sanchit Mullick and Dr. Salim Ashar, the company [...] Summary: Researchers have unveiled a new procedural memory architecture for AI agents that enables them to incrementally learn, store, and reuse operational steps, thereby enhancing long-term performance and reducing costly retraining. This framework enables agents to build cumulative expertise and handle complex, multi-phase tasks more robustly. It holds promise for deploying more adaptive and cost-efficient AI agents in enterprise workflows.\\n\\nSource:Computerworld\", \"score\": 0.85624856}, {\"title\": \"Daily Digest on AI and Emerging Technologies (8 October 2025)\", \"url\": \"https://www.cgspam.org/daily-digest-on-ai-and-emerging-technologies-8-october-2025/\", \"content\": \"AI Control: How to Make Use of Misbehaving AI Agents\\n\\n(Kendrea Beers and Cody Rushing – CSET – 1 October 2025) As AI agents become more autonomous and capable, organizations need new approaches to deploy them safely at scale. This explainer introduces the rapidly growing field of AI control, which offers practical techniques for organizations to get useful outputs from AI agents even when the AI agents attempt to misbehave. – \\n\\nDefence and Warfare [...] (Kyle Hiebert – CIGI – 2 October 2025) More and more, otherwise normal people are self-destructing after marathon use of artificial intelligence (AI). Countless factors are fuelling this rise in so-called AI psychosis — escapism, crushing loneliness and the atomization of society among them. But AI systems themselves are adapting in unnerving ways as well. Leading large language models (LLMs) now grasp that deception is a powerful tool for self-preservation — and to keep users hooked. “We’re [...] (Pablo Chavez – CSET – October 2025) Recent U.S.-Gulf AI partnerships represent billions of dollars in strategic technology deals, but they raise critical questions about governance, oversight, and long-term influence. This analysis examines four major AI initiatives with Saudi Arabia and the United Arab Emirates, discussing critical issues including fragmented oversight, technology diversion, and AI sovereignty. It proposes a framework to transform ad hoc dealmaking into principled,\", \"score\": 0.84918517}]\n"
     ]
    }
   ],
   "source": [
    "message = graph.invoke({\"messages\": HumanMessage(content=\"Provide me the recent AI news form oct 1 2025\")})\n",
    "\n",
    "for msg in message['messages']:\n",
    "    msg.pretty_print()"
   ]
  },
  {
   "cell_type": "code",
   "execution_count": 47,
   "id": "ffea67db",
   "metadata": {},
   "outputs": [
    {
     "name": "stdout",
     "output_type": "stream",
     "text": [
      "================================\u001b[1m Human Message \u001b[0m=================================\n",
      "\n",
      "What is Machine Learning?\n",
      "==================================\u001b[1m Ai Message \u001b[0m==================================\n",
      "Tool Calls:\n",
      "  wikipedia (jn9s7vj9b)\n",
      " Call ID: jn9s7vj9b\n",
      "  Args:\n",
      "    query: Machine Learning\n",
      "=================================\u001b[1m Tool Message \u001b[0m=================================\n",
      "Name: wikipedia\n",
      "\n",
      "Page: Machine learning\n",
      "Summary: Machine learning (ML) is a field of study in artificial intelligence concerned with the development and study of statistical algorithms that can learn from data and generalise to unseen data, and thus perform tasks without explicit instructions. Within a subdiscipline in machine learning, advances in the field of deep learning have allowed neural networks, a class of statistical algorithms, to surpass many previous machine learning approaches in performance.\n",
      "ML fi\n"
     ]
    }
   ],
   "source": [
    "message = graph.invoke({\"messages\": HumanMessage(content=\"What is Machine Learning?\")})\n",
    "\n",
    "for msg in message['messages']:\n",
    "    msg.pretty_print()"
   ]
  },
  {
   "cell_type": "code",
   "execution_count": null,
   "id": "0a8b7c9c",
   "metadata": {},
   "outputs": [],
   "source": []
  }
 ],
 "metadata": {
  "kernelspec": {
   "display_name": "Python 3",
   "language": "python",
   "name": "python3"
  },
  "language_info": {
   "codemirror_mode": {
    "name": "ipython",
    "version": 3
   },
   "file_extension": ".py",
   "mimetype": "text/x-python",
   "name": "python",
   "nbconvert_exporter": "python",
   "pygments_lexer": "ipython3",
   "version": "3.11.0"
  }
 },
 "nbformat": 4,
 "nbformat_minor": 5
}
