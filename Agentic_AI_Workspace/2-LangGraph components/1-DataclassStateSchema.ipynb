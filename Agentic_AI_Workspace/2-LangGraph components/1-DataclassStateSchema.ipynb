{
 "cells": [
  {
   "cell_type": "markdown",
   "id": "ceca1dca",
   "metadata": {},
   "source": [
    "# State schema with DataClasses\n",
    "\n",
    "when we define a LangGraph StateGraph, we use a state schema.\n",
    "\n",
    "The state schema represents the structure and types of data that our graph will use.\n",
    "\n",
    "All nodes are expected to communicate with that schema.\n",
    "\n",
    "LangGraph offers flexiblility in how you define your state schema, accommodating various python types and validation approaches!"
   ]
  },
  {
   "cell_type": "markdown",
   "id": "a84fd960",
   "metadata": {},
   "source": [
    "- We can use the TypedDict class from python's typing module.\n",
    "\n",
    "- It allows you to specify keys and their corresponding value types.\n",
    "\n",
    "- But, note that these are type hints.\n",
    "\n",
    "- They can be used by static type checker (like mypy) or IDEs to catch potential type-related errors befor the code is run\n",
    "\n",
    "- But they are not enforced at runtime!"
   ]
  },
  {
   "cell_type": "code",
   "execution_count": 34,
   "id": "e03d2193",
   "metadata": {},
   "outputs": [],
   "source": [
    "from typing_extensions import TypedDict\n",
    "from typing import Literal\n",
    "\n",
    "\n",
    "class TypedDictState(TypedDict):\n",
    "    name: str\n",
    "    game: Literal['cricket', 'badminton']\n",
    "    "
   ]
  },
  {
   "cell_type": "code",
   "execution_count": 57,
   "id": "e3768a33",
   "metadata": {},
   "outputs": [],
   "source": [
    "def play_game(state: TypedDictState):\n",
    "    print('--- Play Game node has been called ---')\n",
    "    return {\"name\": state['name'] + ' want to play '}\n",
    "\n",
    "def cricket(state: TypedDictState):\n",
    "    print('---Cricket node has been called---')\n",
    "    return {\"name\":state['name']+\" cricket\",\"game\": \"cricket\"}\n",
    "\n",
    "def badminton(state: TypedDictState):\n",
    "    print('---Badminton node has been called---')\n",
    "    return {\"name\":state['name']+\" badminton\",\"game\": \"badminton\"}"
   ]
  },
  {
   "cell_type": "code",
   "execution_count": 58,
   "id": "db1b9aa4",
   "metadata": {},
   "outputs": [],
   "source": [
    "import random\n",
    "\n",
    "def decide_play(state: TypedDictState)-> Literal['cricket','badminton']:\n",
    "    print('---Decide Play node has been called---')\n",
    "    if random.random() < 0.5: return \"cricket\"\n",
    "    return 'badminton'"
   ]
  },
  {
   "cell_type": "code",
   "execution_count": 59,
   "id": "c92dff1e",
   "metadata": {},
   "outputs": [
    {
     "data": {
      "image/png": "[encoded data removed]",
      "text/plain": [
       "<IPython.core.display.Image object>"
      ]
     },
     "metadata": {},
     "output_type": "display_data"
    },
    {
     "name": "stdout",
     "output_type": "stream",
     "text": [
      "---\n",
      "config:\n",
      "  flowchart:\n",
      "    curve: linear\n",
      "---\n",
      "graph TD;\n",
      "\t__start__([<p>__start__</p>]):::first\n",
      "\tplay_game(play_game)\n",
      "\tcricket(cricket)\n",
      "\tbadminton(badminton)\n",
      "\t__end__([<p>__end__</p>]):::last\n",
      "\t__start__ --> play_game;\n",
      "\tplay_game -.-> badminton;\n",
      "\tplay_game -.-> cricket;\n",
      "\tbadminton --> __end__;\n",
      "\tcricket --> __end__;\n",
      "\tclassDef default fill:#f2f0ff,line-height:1.2\n",
      "\tclassDef first fill-opacity:0\n",
      "\tclassDef last fill:#bfb6fc\n",
      "\n"
     ]
    }
   ],
   "source": [
    "from IPython.display import Image, display\n",
    "from langgraph.graph import StateGraph, START, END\n",
    "\n",
    "\n",
    "graph = StateGraph(TypedDictState)\n",
    "graph.add_node('play_game', play_game)\n",
    "graph.add_node('cricket', cricket)\n",
    "graph.add_node('badminton', badminton)\n",
    "\n",
    "graph.add_edge(START, 'play_game')\n",
    "graph.add_conditional_edges('play_game', decide_play)\n",
    "graph.add_edge('cricket', END)\n",
    "graph.add_edge('badminton', END)\n",
    "\n",
    "graph_builder = graph.compile()\n",
    "\n",
    "## View\n",
    "display(Image(graph_builder.get_graph().draw_mermaid_png()))\n",
    "mermaid_code = graph_builder.get_graph().draw_mermaid()\n",
    "\n",
    "print(mermaid_code)"
   ]
  },
  {
   "cell_type": "code",
   "execution_count": 60,
   "id": "d48edd4a",
   "metadata": {},
   "outputs": [
    {
     "name": "stdout",
     "output_type": "stream",
     "text": [
      "--- Play Game node has been called ---\n",
      "---Decide Play node has been called---\n",
      "---Cricket node has been called---\n"
     ]
    },
    {
     "data": {
      "text/plain": [
       "{'name': 'boon sai want to play  cricket', 'game': 'cricket'}"
      ]
     },
     "execution_count": 60,
     "metadata": {},
     "output_type": "execute_result"
    }
   ],
   "source": [
    "graph_builder.invoke({\"name\":\"boon sai\"})"
   ]
  },
  {
   "cell_type": "code",
   "execution_count": null,
   "id": "4bb2e5e1",
   "metadata": {},
   "outputs": [],
   "source": []
  },
  {
   "cell_type": "markdown",
   "id": "7817ba4f",
   "metadata": {},
   "source": [
    "# Pydantic"
   ]
  },
  {
   "cell_type": "markdown",
   "id": "2afdc8bd",
   "metadata": {},
   "source": [
    "Instead of typeddict, use Pydantic for enforced checker "
   ]
  },
  {
   "cell_type": "markdown",
   "id": "9bed58f6",
   "metadata": {},
   "source": [
    "# Data classes"
   ]
  },
  {
   "cell_type": "markdown",
   "id": "41b33986",
   "metadata": {},
   "source": [
    "Python's dataclasses provide another way to define structured data.\n",
    "\n",
    "Dataclasses offer a concise syntax for creating classes that are primarily used to store data."
   ]
  },
  {
   "cell_type": "code",
   "execution_count": 65,
   "id": "95134d35",
   "metadata": {},
   "outputs": [],
   "source": [
    "from dataclasses import dataclass\n",
    "\n",
    "@dataclass\n",
    "class DatacClassState:\n",
    "    name: str\n",
    "    game: Literal['cricket', 'badminton']\n",
    "    \n"
   ]
  },
  {
   "cell_type": "code",
   "execution_count": 68,
   "id": "94cc4112",
   "metadata": {},
   "outputs": [],
   "source": [
    "def play_game(state: DatacClassState):\n",
    "    print('--- Play Game node has been called ---')\n",
    "    return {\"name\": state.name + ' want to play '} # here we use state.name in data clasees where typed dict uses state['name']\n",
    "\n",
    "def cricket(state: DatacClassState):\n",
    "    print('---Cricket node has been called---')\n",
    "    return {\"name\":state.name +\" cricket\",\"game\": \"cricket\"}\n",
    "\n",
    "def badminton(state: DatacClassState):\n",
    "    print('---Badminton node has been called---')\n",
    "    return {\"name\": state.name +\" badminton\",\"game\": \"badminton\"}"
   ]
  },
  {
   "cell_type": "code",
   "execution_count": 69,
   "id": "7319dd52",
   "metadata": {},
   "outputs": [],
   "source": [
    "import random\n",
    "\n",
    "def decide_play(state: DatacClassState)-> Literal['cricket','badminton']:\n",
    "    print('---Decide Play node has been called---')\n",
    "    if random.random() < 0.5: return \"cricket\"\n",
    "    return 'badminton'"
   ]
  },
  {
   "cell_type": "code",
   "execution_count": 70,
   "id": "b1db0ff6",
   "metadata": {},
   "outputs": [
    {
     "data": {
      "image/png": "[encoded data removed]",
      "text/plain": [
       "<IPython.core.display.Image object>"
      ]
     },
     "metadata": {},
     "output_type": "display_data"
    },
    {
     "name": "stdout",
     "output_type": "stream",
     "text": [
      "---\n",
      "config:\n",
      "  flowchart:\n",
      "    curve: linear\n",
      "---\n",
      "graph TD;\n",
      "\t__start__([<p>__start__</p>]):::first\n",
      "\tplay_game(play_game)\n",
      "\tcricket(cricket)\n",
      "\tbadminton(badminton)\n",
      "\t__end__([<p>__end__</p>]):::last\n",
      "\t__start__ --> play_game;\n",
      "\tplay_game -.-> badminton;\n",
      "\tplay_game -.-> cricket;\n",
      "\tbadminton --> __end__;\n",
      "\tcricket --> __end__;\n",
      "\tclassDef default fill:#f2f0ff,line-height:1.2\n",
      "\tclassDef first fill-opacity:0\n",
      "\tclassDef last fill:#bfb6fc\n",
      "\n"
     ]
    }
   ],
   "source": [
    "from IPython.display import Image, display\n",
    "from langgraph.graph import StateGraph, START, END\n",
    "\n",
    "\n",
    "graph = StateGraph(TypedDictState)\n",
    "graph.add_node('play_game', play_game)\n",
    "graph.add_node('cricket', cricket)\n",
    "graph.add_node('badminton', badminton)\n",
    "\n",
    "graph.add_edge(START, 'play_game')\n",
    "graph.add_conditional_edges('play_game', decide_play)\n",
    "graph.add_edge('cricket', END)\n",
    "graph.add_edge('badminton', END)\n",
    "\n",
    "graph_builder = graph.compile()\n",
    "\n",
    "## View\n",
    "display(Image(graph_builder.get_graph().draw_mermaid_png()))\n",
    "mermaid_code = graph_builder.get_graph().draw_mermaid()\n",
    "\n",
    "print(mermaid_code)"
   ]
  },
  {
   "cell_type": "code",
   "execution_count": 72,
   "id": "66bdb4f3",
   "metadata": {},
   "outputs": [
    {
     "name": "stdout",
     "output_type": "stream",
     "text": [
      "--- Play Game node has been called ---\n",
      "---Decide Play node has been called---\n",
      "---Cricket node has been called---\n"
     ]
    },
    {
     "data": {
      "text/plain": [
       "{'name': 'Boon sai want to play  cricket', 'game': 'cricket'}"
      ]
     },
     "execution_count": 72,
     "metadata": {},
     "output_type": "execute_result"
    }
   ],
   "source": [
    "graph_builder.invoke(DatacClassState(name=\"Boon sai\", game=\"badminton\"))"
   ]
  },
  {
   "cell_type": "code",
   "execution_count": null,
   "id": "04f42c46",
   "metadata": {},
   "outputs": [],
   "source": []
  }
 ],
 "metadata": {
  "kernelspec": {
   "display_name": "Python 3",
   "language": "python",
   "name": "python3"
  },
  "language_info": {
   "codemirror_mode": {
    "name": "ipython",
    "version": 3
   },
   "file_extension": ".py",
   "mimetype": "text/x-python",
   "name": "python",
   "nbconvert_exporter": "python",
   "pygments_lexer": "ipython3",
   "version": "3.11.0"
  }
 },
 "nbformat": 4,
 "nbformat_minor": 5
}
