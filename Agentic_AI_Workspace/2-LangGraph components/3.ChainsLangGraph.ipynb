{
 "cells": [
  {
   "cell_type": "markdown",
   "id": "5fc666a7",
   "metadata": {},
   "source": [
    "# Chain using LangGraph\n",
    "\n",
    "LangGraph uses 4 important concepts\n",
    "\n",
    "- How to use chat messages as our graph state\n",
    "- How to use chat models in graph nodes\n",
    "- How to bind tools to our LLM in chat models\n",
    "- How to execute the tools call in out graph nodes"
   ]
  },
  {
   "cell_type": "code",
   "execution_count": 63,
   "id": "d84e31f6",
   "metadata": {},
   "outputs": [],
   "source": [
    "from dotenv import load_dotenv\n",
    "\n",
    "load_dotenv()\n",
    "\n",
    "import os\n",
    "os.environ['GROQ_API_KEY'] = os.getenv(\"GROQ_API_KEY\")"
   ]
  },
  {
   "cell_type": "markdown",
   "id": "9fd323c9",
   "metadata": {},
   "source": [
    "# How to use chat messages a out graph state\n",
    "\n",
    "Messages\n",
    "\n",
    "We can use messages which can be used to capture different roles with in a conversation. LangChain has various message typed incliding HumanMessage, AIMessage, SystemMessage and ToolMessage. These represent a message from the user, from chat model, \n",
    "\n",
    "Every message have these important components.\n",
    "\n",
    "- content- content of the message\n",
    "- name- Specify the name of author\n",
    "- response_metadata - Optionally, a dict of metadata (eg., often populated by model provider for AIMessages)\n"
   ]
  },
  {
   "cell_type": "code",
   "execution_count": 64,
   "id": "718f3f99",
   "metadata": {},
   "outputs": [
    {
     "name": "stdout",
     "output_type": "stream",
     "text": [
      "==================================\u001b[1m Ai Message \u001b[0m==================================\n",
      "Name: LLM-Model\n",
      "\n",
      "Please tellme how can I help\n",
      "================================\u001b[1m Human Message \u001b[0m=================================\n",
      "Name: BoonSai\n",
      "\n",
      "I want to learn coding!\n",
      "==================================\u001b[1m Ai Message \u001b[0m==================================\n",
      "Name: LLM-Model\n",
      "\n",
      "Which programming languge you want to learn\n",
      "================================\u001b[1m Human Message \u001b[0m=================================\n",
      "Name: BoonSai\n",
      "\n",
      "Hey! I want to learn python programming langugae\n"
     ]
    }
   ],
   "source": [
    "from langchain_core.messages import AIMessage, HumanMessage\n",
    "from pprint import pprint # this lib is to print in beautiful manner (pretty print)\n",
    "\n",
    "messages = [AIMessage(content=f\"Please tellme how can I help\", name=\"LLM-Model\")]\n",
    "messages.append(HumanMessage(content=f\"I want to learn coding!\", name=\"BoonSai\"))\n",
    "messages.append(AIMessage(content=f\"Which programming languge you want to learn\", name=\"LLM-Model\"))\n",
    "messages.append(HumanMessage(content=f\"Hey! I want to learn python programming langugae\", name=\"BoonSai\"))\n",
    "\n",
    "for message in messages: message.pretty_print()\n"
   ]
  },
  {
   "cell_type": "markdown",
   "id": "59a91304",
   "metadata": {},
   "source": [
    "# Chat models\n",
    "\n",
    "We can use the sequence of messages a input with the chat-models using LLM's"
   ]
  },
  {
   "cell_type": "code",
   "execution_count": 65,
   "id": "7e785b68",
   "metadata": {},
   "outputs": [],
   "source": [
    "from langchain_groq import ChatGroq\n",
    "\n",
    "llm = ChatGroq(model = 'llama-3.1-8b-instant')\n",
    "result = llm.invoke(messages)"
   ]
  },
  {
   "cell_type": "code",
   "execution_count": 66,
   "id": "7a2fc0a4",
   "metadata": {},
   "outputs": [
    {
     "data": {
      "text/plain": [
       "{'token_usage': {'completion_tokens': 434,\n",
       "  'prompt_tokens': 82,\n",
       "  'total_tokens': 516,\n",
       "  'completion_time': 0.596568943,\n",
       "  'prompt_time': 0.005069205,\n",
       "  'queue_time': 0.044475845,\n",
       "  'total_time': 0.601638148},\n",
       " 'model_name': 'llama-3.1-8b-instant',\n",
       " 'system_fingerprint': 'fp_e32974efee',\n",
       " 'service_tier': 'on_demand',\n",
       " 'finish_reason': 'stop',\n",
       " 'logprobs': None}"
      ]
     },
     "execution_count": 66,
     "metadata": {},
     "output_type": "execute_result"
    }
   ],
   "source": [
    "result.response_metadata # it prints metadata of the llm's output"
   ]
  },
  {
   "cell_type": "markdown",
   "id": "3b106da9",
   "metadata": {},
   "source": [
    "# Tools\n",
    "\n",
    "-Tools can be integrated with the LLM models to interact with external systems. External systems can be API's, third party tools. \n",
    "\n",
    "- Whenever a query is asked the model can choose to call the tool and this query is based on the natural language input and this will return and output that matches the tool's schema"
   ]
  },
  {
   "cell_type": "code",
   "execution_count": 67,
   "id": "3fb9151a",
   "metadata": {},
   "outputs": [],
   "source": [
    "def add(a: int, b:int)-> int:\n",
    "    \"\"\" Add a and b\n",
    "    Args:\n",
    "        a (int): First int\n",
    "        b (int): second int\n",
    "    \n",
    "    returns:\n",
    "        int     \n",
    "    \"\"\"\n",
    "    return a+b "
   ]
  },
  {
   "cell_type": "code",
   "execution_count": 68,
   "id": "32cabb25",
   "metadata": {},
   "outputs": [
    {
     "data": {
      "text/plain": [
       "ChatGroq(client=<groq.resources.chat.completions.Completions object at 0x10f44c1d0>, async_client=<groq.resources.chat.completions.AsyncCompletions object at 0x10f0a1c90>, model_name='llama-3.1-8b-instant', model_kwargs={}, groq_api_key=SecretStr('**********'))"
      ]
     },
     "execution_count": 68,
     "metadata": {},
     "output_type": "execute_result"
    }
   ],
   "source": [
    "llm"
   ]
  },
  {
   "cell_type": "code",
   "execution_count": 70,
   "id": "ad64b911",
   "metadata": {},
   "outputs": [],
   "source": [
    "## Binding tool with llm\n",
    "\n",
    "llm_with_tools = llm.bind_tools([add])\n",
    "\n",
    "tool_call = llm_with_tools.invoke([HumanMessage(content=f\"what is 2 plus 2\", name='BoonSai')]) # here it shows empty message "
   ]
  },
  {
   "cell_type": "markdown",
   "id": "63d245ad",
   "metadata": {},
   "source": [
    "Here the content='', i.e the content is blank, there is no response from AI message. instead there is a additional parameter i.e 'name' : 'add',\n",
    "\n",
    "that means it calls the add tool call/ functionality"
   ]
  },
  {
   "cell_type": "code",
   "execution_count": 71,
   "id": "ae04c09b",
   "metadata": {},
   "outputs": [
    {
     "data": {
      "text/plain": [
       "[{'name': 'add',\n",
       "  'args': {'a': 2, 'b': 2},\n",
       "  'id': 'e5axgzc8d',\n",
       "  'type': 'tool_call'}]"
      ]
     },
     "execution_count": 71,
     "metadata": {},
     "output_type": "execute_result"
    }
   ],
   "source": [
    "tool_call.tool_calls"
   ]
  },
  {
   "cell_type": "markdown",
   "id": "2838bdd6",
   "metadata": {},
   "source": [
    "### using messages as state"
   ]
  },
  {
   "cell_type": "code",
   "execution_count": 72,
   "id": "8731c831",
   "metadata": {},
   "outputs": [],
   "source": [
    "from typing_extensions import TypedDict\n",
    "from langchain_core.messages import AnyMessage\n",
    "\n",
    "class state(TypedDict):\n",
    "    message: list[AnyMessage]"
   ]
  },
  {
   "cell_type": "markdown",
   "id": "20e0c523",
   "metadata": {},
   "source": [
    "### Reducers\n",
    "Now, we have a minor problem!\n",
    "\n",
    "As we discuessed, each node will return a new value for our state key messages.\n",
    "\n",
    "But, this new value will override the prior messages value.\n",
    "\n",
    "As out graph runs, we want to append messages to out messages state key.\n",
    "\n",
    "We can use reducer functions to address this.\n",
    "\n",
    "Reducers allow us to specify how state updates are performed.\n",
    "\n",
    "If no reducer function is specified, then it is assumed that updates to the key should override it as we saw before.\n",
    "\n",
    "But, to append messages, we can use the pre-build add_messages reducer.\n",
    "\n",
    "This ensure that any messages are appended to the existing list of messages.\n",
    "\n",
    "We simply need to annotate out messages key with the add_messages reducer function as metadata."
   ]
  },
  {
   "cell_type": "code",
   "execution_count": 73,
   "id": "193ec033",
   "metadata": {},
   "outputs": [],
   "source": [
    "from langgraph.graph.message import add_messages\n",
    "from typing import Annotated\n",
    "\n",
    "class State(TypedDict):\n",
    "    messages: Annotated[list[add_messages], add_messages]"
   ]
  },
  {
   "cell_type": "markdown",
   "id": "33991910",
   "metadata": {},
   "source": [
    "## Reducers with add_message\n"
   ]
  },
  {
   "cell_type": "code",
   "execution_count": 74,
   "id": "a9d004d6",
   "metadata": {},
   "outputs": [],
   "source": [
    "initial_messages = [AIMessage(content=f'Please tell me how can I help', name='LLM-Model')]\n",
    "initial_messages.append(HumanMessage(content=f'I want to learn coding', name='Krish'))"
   ]
  },
  {
   "cell_type": "code",
   "execution_count": 75,
   "id": "3fa44718",
   "metadata": {},
   "outputs": [
    {
     "data": {
      "text/plain": [
       "AIMessage(content='Which programming languge you want to learn', additional_kwargs={}, response_metadata={}, name='LLM-Model')"
      ]
     },
     "execution_count": 75,
     "metadata": {},
     "output_type": "execute_result"
    }
   ],
   "source": [
    "ai_message = AIMessage(content=f\"Which programming languge you want to learn\", name=\"LLM-Model\")\n",
    "ai_message"
   ]
  },
  {
   "cell_type": "code",
   "execution_count": 76,
   "id": "6e61180c",
   "metadata": {},
   "outputs": [
    {
     "data": {
      "text/plain": [
       "[AIMessage(content='Please tell me how can I help', additional_kwargs={}, response_metadata={}, name='LLM-Model', id='c253c784-ddfd-49ba-83c3-f337f91ba2d7'),\n",
       " HumanMessage(content='I want to learn coding', additional_kwargs={}, response_metadata={}, name='Krish', id='86561fc8-a9cb-497b-9fed-8abef5600d08'),\n",
       " AIMessage(content='Which programming languge you want to learn', additional_kwargs={}, response_metadata={}, name='LLM-Model', id='671e1413-365d-46d6-8948-ebac4cd75c24')]"
      ]
     },
     "execution_count": 76,
     "metadata": {},
     "output_type": "execute_result"
    }
   ],
   "source": [
    "# Reducers add_messages is to append instead of override\n",
    "add_messages(initial_messages, ai_message)"
   ]
  },
  {
   "cell_type": "code",
   "execution_count": 81,
   "id": "c05845d0",
   "metadata": {},
   "outputs": [],
   "source": [
    "# chatbot node functionality\n",
    "def llm_tool(state: State):\n",
    "    return {\"messages\": [llm_with_tools.invoke(state['messages'])]}"
   ]
  },
  {
   "cell_type": "code",
   "execution_count": 82,
   "id": "e96bd7d6",
   "metadata": {},
   "outputs": [
    {
     "data": {
      "image/png": "[encoded data removed]",
      "text/plain": [
       "<IPython.core.display.Image object>"
      ]
     },
     "metadata": {},
     "output_type": "display_data"
    }
   ],
   "source": [
    "from IPython.display import Image, display\n",
    "from langgraph.graph import StateGraph, START, END\n",
    "builder = StateGraph(State)\n",
    "\n",
    "builder.add_node(\"llm_tool\", llm_tool)\n",
    "\n",
    "builder.add_edge(START, \"llm_tool\")\n",
    "builder.add_edge('llm_tool', END)\n",
    "\n",
    "graph = builder.compile()\n",
    "\n",
    "display(Image(graph.get_graph().draw_mermaid_png()))"
   ]
  },
  {
   "cell_type": "code",
   "execution_count": 83,
   "id": "06a36535",
   "metadata": {},
   "outputs": [
    {
     "name": "stdout",
     "output_type": "stream",
     "text": [
      "================================\u001b[1m Human Message \u001b[0m=================================\n",
      "\n",
      "what is 2 plus 2\n",
      "==================================\u001b[1m Ai Message \u001b[0m==================================\n",
      "Tool Calls:\n",
      "  add (dcqn6whw5)\n",
      " Call ID: dcqn6whw5\n",
      "  Args:\n",
      "    a: 2\n",
      "    b: 2\n"
     ]
    }
   ],
   "source": [
    "## Invocation\n",
    "\n",
    "messages = graph.invoke({\"messages\": \"what is 2 plus 2\"})\n",
    "for msg in messages['messages']:\n",
    "    msg.pretty_print()"
   ]
  },
  {
   "cell_type": "code",
   "execution_count": null,
   "id": "b547c04f",
   "metadata": {},
   "outputs": [],
   "source": []
  }
 ],
 "metadata": {
  "kernelspec": {
   "display_name": "Python 3",
   "language": "python",
   "name": "python3"
  },
  "language_info": {
   "codemirror_mode": {
    "name": "ipython",
    "version": 3
   },
   "file_extension": ".py",
   "mimetype": "text/x-python",
   "name": "python",
   "nbconvert_exporter": "python",
   "pygments_lexer": "ipython3",
   "version": "3.11.0"
  }
 },
 "nbformat": 4,
 "nbformat_minor": 5
}
