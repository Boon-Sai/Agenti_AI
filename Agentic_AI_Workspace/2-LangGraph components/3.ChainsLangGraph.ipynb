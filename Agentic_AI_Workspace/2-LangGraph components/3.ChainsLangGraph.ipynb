{
 "cells": [
  {
   "cell_type": "markdown",
   "id": "5fc666a7",
   "metadata": {},
   "source": [
    "# Chain using LangGraph\n",
    "\n",
    "LangGraph uses 4 important concepts\n",
    "\n",
    "- How to use chat messages as our graph state\n",
    "- How to use chat models in graph nodes\n",
    "- How to bind tools to our LLM in chat models\n",
    "- How to execute the tools call in out graph nodes"
   ]
  },
  {
   "cell_type": "code",
   "execution_count": 63,
   "id": "d84e31f6",
   "metadata": {},
   "outputs": [],
   "source": [
    "from dotenv import load_dotenv\n",
    "\n",
    "load_dotenv()\n",
    "\n",
    "import os\n",
    "os.environ['GROQ_API_KEY'] = os.getenv(\"GROQ_API_KEY\")"
   ]
  },
  {
   "cell_type": "markdown",
   "id": "9fd323c9",
   "metadata": {},
   "source": [
    "# How to use chat messages a out graph state\n",
    "\n",
    "Messages\n",
    "\n",
    "We can use messages which can be used to capture different roles with in a conversation. LangChain has various message typed incliding HumanMessage, AIMessage, SystemMessage and ToolMessage. These represent a message from the user, from chat model, \n",
    "\n",
    "Every message have these important components.\n",
    "\n",
    "- content- content of the message\n",
    "- name- Specify the name of author\n",
    "- response_metadata - Optionally, a dict of metadata (eg., often populated by model provider for AIMessages)\n"
   ]
  },
  {
   "cell_type": "code",
   "execution_count": 64,
   "id": "718f3f99",
   "metadata": {},
   "outputs": [
    {
     "name": "stdout",
     "output_type": "stream",
     "text": [
      "==================================\u001b[1m Ai Message \u001b[0m==================================\n",
      "Name: LLM-Model\n",
      "\n",
      "Please tellme how can I help\n",
      "================================\u001b[1m Human Message \u001b[0m=================================\n",
      "Name: BoonSai\n",
      "\n",
      "I want to learn coding!\n",
      "==================================\u001b[1m Ai Message \u001b[0m==================================\n",
      "Name: LLM-Model\n",
      "\n",
      "Which programming languge you want to learn\n",
      "================================\u001b[1m Human Message \u001b[0m=================================\n",
      "Name: BoonSai\n",
      "\n",
      "Hey! I want to learn python programming langugae\n"
     ]
    }
   ],
   "source": [
    "from langchain_core.messages import AIMessage, HumanMessage\n",
    "from pprint import pprint # this lib is to print in beautiful manner (pretty print)\n",
    "\n",
    "messages = [AIMessage(content=f\"Please tellme how can I help\", name=\"LLM-Model\")]\n",
    "messages.append(HumanMessage(content=f\"I want to learn coding!\", name=\"BoonSai\"))\n",
    "messages.append(AIMessage(content=f\"Which programming languge you want to learn\", name=\"LLM-Model\"))\n",
    "messages.append(HumanMessage(content=f\"Hey! I want to learn python programming langugae\", name=\"BoonSai\"))\n",
    "\n",
    "for message in messages: message.pretty_print()\n"
   ]
  },
  {
   "cell_type": "code",
   "execution_count": null,
   "id": "58e84aa5",
   "metadata": {},
   "outputs": [],
   "source": []
  },
  {
   "cell_type": "code",
   "execution_count": 65,
   "id": "7e785b68",
   "metadata": {},
   "outputs": [],
   "source": [
    "from langchain_groq import ChatGroq\n",
    "\n",
    "llm = ChatGroq(model = 'llama-3.1-8b-instant')\n",
    "result = llm.invoke(messages)"
   ]
  },
  {
   "cell_type": "code",
   "execution_count": 66,
   "id": "7a2fc0a4",
   "metadata": {},
   "outputs": [
    {
     "data": {
      "text/plain": [
       "{'token_usage': {'completion_tokens': 434,\n",
       "  'prompt_tokens': 82,\n",
       "  'total_tokens': 516,\n",
       "  'completion_time': 0.596568943,\n",
       "  'prompt_time': 0.005069205,\n",
       "  'queue_time': 0.044475845,\n",
       "  'total_time': 0.601638148},\n",
       " 'model_name': 'llama-3.1-8b-instant',\n",
       " 'system_fingerprint': 'fp_e32974efee',\n",
       " 'service_tier': 'on_demand',\n",
       " 'finish_reason': 'stop',\n",
       " 'logprobs': None}"
      ]
     },
     "execution_count": 66,
     "metadata": {},
     "output_type": "execute_result"
    }
   ],
   "source": [
    "result.response_metadata # it prints metadata of the llm's output"
   ]
  },
  {
   "cell_type": "markdown",
   "id": "3b106da9",
   "metadata": {},
   "source": [
    "# Tools\n",
    "\n",
    "-Tools can be integrated with the LLM models to interact with external systems. External systems can be API's, third party tools. \n",
    "\n",
    "- Whenever a query is asked the model can choose to call the tool and this query is based on the natural language input and this will return and output that matches the tool's schema\n",
    "\n",
    "\n",
    "- A tool can be able to give response to LLM again or else it can move directly to END"
   ]
  },
  {
   "cell_type": "markdown",
   "id": "a3f291e9",
   "metadata": {},
   "source": [
    "#### Here is the tool that gives response back to LLM\n",
    "\n",
    "Start → LM_tool → End"
   ]
  },
  {
   "cell_type": "code",
   "execution_count": 67,
   "id": "3fb9151a",
   "metadata": {},
   "outputs": [],
   "source": [
    "def add(a: int, b:int)-> int:\n",
    "    \"\"\" Add a and b\n",
    "    Args:\n",
    "        a (int): First int\n",
    "        b (int): second int\n",
    "    \n",
    "    returns:\n",
    "        int     \n",
    "    \"\"\"\n",
    "    return a+b "
   ]
  },
  {
   "cell_type": "code",
   "execution_count": 68,
   "id": "32cabb25",
   "metadata": {},
   "outputs": [
    {
     "data": {
      "text/plain": [
       "ChatGroq(client=<groq.resources.chat.completions.Completions object at 0x10f44c1d0>, async_client=<groq.resources.chat.completions.AsyncCompletions object at 0x10f0a1c90>, model_name='llama-3.1-8b-instant', model_kwargs={}, groq_api_key=SecretStr('**********'))"
      ]
     },
     "execution_count": 68,
     "metadata": {},
     "output_type": "execute_result"
    }
   ],
   "source": [
    "llm"
   ]
  },
  {
   "cell_type": "code",
   "execution_count": null,
   "id": "ad64b911",
   "metadata": {},
   "outputs": [],
   "source": [
    "## Binding tool with llm\n",
    "\n",
    "llm_with_tools = llm.bind_tools([add])\n",
    "\n",
    "tool_call = llm_with_tools.invoke([HumanMessage(content=f\"what is 2 plus 2\", name='BoonSai')]) # here it shows empty message "
   ]
  },
  {
   "cell_type": "code",
   "execution_count": 93,
   "id": "063a4d0a",
   "metadata": {},
   "outputs": [
    {
     "data": {
      "text/plain": [
       "AIMessage(content='', additional_kwargs={'tool_calls': [{'id': 'e5axgzc8d', 'function': {'arguments': '{\"a\":2,\"b\":2}', 'name': 'add'}, 'type': 'function'}]}, response_metadata={'token_usage': {'completion_tokens': 18, 'prompt_tokens': 269, 'total_tokens': 287, 'completion_time': 0.034030198, 'prompt_time': 0.015885465, 'queue_time': 0.055542584, 'total_time': 0.049915663}, 'model_name': 'llama-3.1-8b-instant', 'system_fingerprint': 'fp_e32974efee', 'service_tier': 'on_demand', 'finish_reason': 'tool_calls', 'logprobs': None}, id='run--b6898c01-7ecf-432c-9ab0-6f3fbaaa2a29-0', tool_calls=[{'name': 'add', 'args': {'a': 2, 'b': 2}, 'id': 'e5axgzc8d', 'type': 'tool_call'}], usage_metadata={'input_tokens': 269, 'output_tokens': 18, 'total_tokens': 287})"
      ]
     },
     "execution_count": 93,
     "metadata": {},
     "output_type": "execute_result"
    }
   ],
   "source": [
    "tool_call"
   ]
  },
  {
   "cell_type": "markdown",
   "id": "63d245ad",
   "metadata": {},
   "source": [
    "Here the content='', i.e the content is blank, there is no response from AI message. instead there is a additional parameter i.e 'name' : 'add',\n",
    "\n",
    "that means it calls the add tool call/ functionality"
   ]
  },
  {
   "cell_type": "code",
   "execution_count": 71,
   "id": "ae04c09b",
   "metadata": {},
   "outputs": [
    {
     "data": {
      "text/plain": [
       "[{'name': 'add',\n",
       "  'args': {'a': 2, 'b': 2},\n",
       "  'id': 'e5axgzc8d',\n",
       "  'type': 'tool_call'}]"
      ]
     },
     "execution_count": 71,
     "metadata": {},
     "output_type": "execute_result"
    }
   ],
   "source": [
    "tool_call.tool_calls"
   ]
  },
  {
   "cell_type": "markdown",
   "id": "2838bdd6",
   "metadata": {},
   "source": [
    "### using messages as state"
   ]
  },
  {
   "cell_type": "code",
   "execution_count": 72,
   "id": "8731c831",
   "metadata": {},
   "outputs": [],
   "source": [
    "from typing_extensions import TypedDict\n",
    "from langchain_core.messages import AnyMessage\n",
    "\n",
    "class state(TypedDict):\n",
    "    message: list[AnyMessage]"
   ]
  },
  {
   "cell_type": "markdown",
   "id": "20e0c523",
   "metadata": {},
   "source": [
    "### Reducers\n",
    "Now, we have a minor problem!\n",
    "\n",
    "As we discuessed, each node will return a new value for our state key messages.\n",
    "\n",
    "But, this new value will override the prior messages value.\n",
    "\n",
    "As out graph runs, we want to append messages to out messages state key.\n",
    "\n",
    "We can use reducer functions to address this.\n",
    "\n",
    "Reducers allow us to specify how state updates are performed.\n",
    "\n",
    "If no reducer function is specified, then it is assumed that updates to the key should override it as we saw before.\n",
    "\n",
    "But, to append messages, we can use the pre-build add_messages reducer.\n",
    "\n",
    "This ensure that any messages are appended to the existing list of messages.\n",
    "\n",
    "We simply need to annotate out messages key with the add_messages reducer function as metadata."
   ]
  },
  {
   "cell_type": "code",
   "execution_count": 73,
   "id": "193ec033",
   "metadata": {},
   "outputs": [],
   "source": [
    "from langgraph.graph.message import add_messages\n",
    "from typing import Annotated\n",
    "\n",
    "class State(TypedDict):\n",
    "    messages: Annotated[list[add_messages], add_messages]"
   ]
  },
  {
   "cell_type": "markdown",
   "id": "33991910",
   "metadata": {},
   "source": [
    "## Reducers with add_message\n"
   ]
  },
  {
   "cell_type": "code",
   "execution_count": 94,
   "id": "a9d004d6",
   "metadata": {},
   "outputs": [],
   "source": [
    "initial_messages = [AIMessage(content=f'Please tell me how can I help', name='LLM-Model')]\n",
    "initial_messages.append(HumanMessage(content=f'I want to learn coding', name='Boonsai'))"
   ]
  },
  {
   "cell_type": "code",
   "execution_count": 75,
   "id": "3fa44718",
   "metadata": {},
   "outputs": [
    {
     "data": {
      "text/plain": [
       "AIMessage(content='Which programming languge you want to learn', additional_kwargs={}, response_metadata={}, name='LLM-Model')"
      ]
     },
     "execution_count": 75,
     "metadata": {},
     "output_type": "execute_result"
    }
   ],
   "source": [
    "ai_message = AIMessage(content=f\"Which programming languge you want to learn\", name=\"LLM-Model\")\n",
    "ai_message"
   ]
  },
  {
   "cell_type": "code",
   "execution_count": 76,
   "id": "6e61180c",
   "metadata": {},
   "outputs": [
    {
     "data": {
      "text/plain": [
       "[AIMessage(content='Please tell me how can I help', additional_kwargs={}, response_metadata={}, name='LLM-Model', id='c253c784-ddfd-49ba-83c3-f337f91ba2d7'),\n",
       " HumanMessage(content='I want to learn coding', additional_kwargs={}, response_metadata={}, name='Krish', id='86561fc8-a9cb-497b-9fed-8abef5600d08'),\n",
       " AIMessage(content='Which programming languge you want to learn', additional_kwargs={}, response_metadata={}, name='LLM-Model', id='671e1413-365d-46d6-8948-ebac4cd75c24')]"
      ]
     },
     "execution_count": 76,
     "metadata": {},
     "output_type": "execute_result"
    }
   ],
   "source": [
    "# Reducers add_messages is to append instead of override\n",
    "add_messages(initial_messages, ai_message)"
   ]
  },
  {
   "cell_type": "code",
   "execution_count": 81,
   "id": "c05845d0",
   "metadata": {},
   "outputs": [],
   "source": [
    "# chatbot node functionality\n",
    "def llm_tool(state: State):\n",
    "    return {\"messages\": [llm_with_tools.invoke(state['messages'])]}"
   ]
  },
  {
   "cell_type": "code",
   "execution_count": null,
   "id": "b1d87cc3",
   "metadata": {},
   "outputs": [],
   "source": []
  },
  {
   "cell_type": "code",
   "execution_count": 82,
   "id": "e96bd7d6",
   "metadata": {},
   "outputs": [
    {
     "data": {
      "image/png": "[encoded data removed]",
      "text/plain": [
       "<IPython.core.display.Image object>"
      ]
     },
     "metadata": {},
     "output_type": "display_data"
    }
   ],
   "source": [
    "from IPython.display import Image, display\n",
    "from langgraph.graph import StateGraph, START, END\n",
    "builder = StateGraph(State)\n",
    "\n",
    "builder.add_node(\"llm_tool\", llm_tool)\n",
    "\n",
    "builder.add_edge(START, \"llm_tool\")\n",
    "builder.add_edge('llm_tool', END)\n",
    "\n",
    "graph = builder.compile()\n",
    "\n",
    "display(Image(graph.get_graph().draw_mermaid_png()))"
   ]
  },
  {
   "cell_type": "code",
   "execution_count": 83,
   "id": "06a36535",
   "metadata": {},
   "outputs": [
    {
     "name": "stdout",
     "output_type": "stream",
     "text": [
      "================================\u001b[1m Human Message \u001b[0m=================================\n",
      "\n",
      "what is 2 plus 2\n",
      "==================================\u001b[1m Ai Message \u001b[0m==================================\n",
      "Tool Calls:\n",
      "  add (dcqn6whw5)\n",
      " Call ID: dcqn6whw5\n",
      "  Args:\n",
      "    a: 2\n",
      "    b: 2\n"
     ]
    }
   ],
   "source": [
    "## Invocation\n",
    "\n",
    "messages = graph.invoke({\"messages\": \"what is 2 plus 2\"})\n",
    "for msg in messages['messages']:\n",
    "    msg.pretty_print()"
   ]
  },
  {
   "cell_type": "markdown",
   "id": "cb6fa35c",
   "metadata": {},
   "source": [
    "==============================================\n",
    "#### Now this is the second method that directly moves to the END without moving back to LLM\n",
    "\n",
    "Start → LM_tool → [tools_condition] → tools → End\n",
    "                         \n",
    "                          ↓\n",
    "                        End"
   ]
  },
  {
   "cell_type": "code",
   "execution_count": 86,
   "id": "6dd1386e",
   "metadata": {},
   "outputs": [],
   "source": [
    "tools = [add]"
   ]
  },
  {
   "cell_type": "code",
   "execution_count": 88,
   "id": "b547c04f",
   "metadata": {},
   "outputs": [],
   "source": [
    "from langgraph.prebuilt import ToolNode\n",
    "from langgraph.prebuilt import tools_condition\n",
    "\n",
    "builder = StateGraph(State)\n",
    "\n",
    "\n",
    "# Add nodes\n",
    "\n",
    "builder.add_node(\"llm_tool\", llm_tool)\n",
    "builder.add_node(\"tools\", ToolNode(tools))\n",
    "\n",
    "# Add edges\n",
    "\n",
    "builder.add_edge(START, \"llm_tool\")\n",
    "builder.add_conditional_edges(\n",
    "    \"llm_tool\",\n",
    "    # If the latest message (result) from assistant is a tool call -> tools_condition routes to tools\n",
    "    # If the latest message (result) from assistant is not a tool call -> tools_condition routes to END\n",
    "    tools_condition\n",
    ")\n",
    "\n",
    "builder.add_edge(\"tools\", END)\n",
    "\n",
    "graph_builder = builder.compile()"
   ]
  },
  {
   "cell_type": "code",
   "execution_count": 90,
   "id": "b9d98782",
   "metadata": {},
   "outputs": [
    {
     "data": {
      "image/png": "[encoded data removed]",
      "text/plain": [
       "<IPython.core.display.Image object>"
      ]
     },
     "metadata": {},
     "output_type": "display_data"
    }
   ],
   "source": [
    "display(Image(graph_builder.get_graph().draw_mermaid_png()))"
   ]
  },
  {
   "cell_type": "code",
   "execution_count": 91,
   "id": "8825f5f9",
   "metadata": {},
   "outputs": [
    {
     "name": "stdout",
     "output_type": "stream",
     "text": [
      "================================\u001b[1m Human Message \u001b[0m=================================\n",
      "\n",
      "what is 2 plus 2\n",
      "==================================\u001b[1m Ai Message \u001b[0m==================================\n",
      "Tool Calls:\n",
      "  add (c7xksg1a8)\n",
      " Call ID: c7xksg1a8\n",
      "  Args:\n",
      "    a: 2\n",
      "    b: 2\n",
      "=================================\u001b[1m Tool Message \u001b[0m=================================\n",
      "Name: add\n",
      "\n",
      "4\n"
     ]
    }
   ],
   "source": [
    "## Invocation\n",
    "\n",
    "messages = graph_builder.invoke({\"messages\": \"what is 2 plus 2\"})\n",
    "for msg in messages['messages']:\n",
    "    msg.pretty_print()"
   ]
  },
  {
   "cell_type": "markdown",
   "id": "c97a1020",
   "metadata": {},
   "source": [
    "In this below example, there is no need of calling the tool. LLM directly moves to the end "
   ]
  },
  {
   "cell_type": "code",
   "execution_count": 92,
   "id": "e4bae3d8",
   "metadata": {},
   "outputs": [
    {
     "name": "stdout",
     "output_type": "stream",
     "text": [
      "================================\u001b[1m Human Message \u001b[0m=================================\n",
      "\n",
      "what is Machine Learning\n",
      "==================================\u001b[1m Ai Message \u001b[0m==================================\n",
      "\n",
      "Machine learning is a subset of artificial intelligence (AI) that involves the use of algorithms and statistical models to enable machines to learn from data, make decisions, and improve their performance on a task over time. It is a type of supervised learning, where the machine is trained on a labeled dataset, allowing it to learn the relationships between input data and the desired output.\n"
     ]
    }
   ],
   "source": [
    "\n",
    "messages = graph_builder.invoke({\"messages\": \"what is Machine Learning\"})\n",
    "for msg in messages['messages']:\n",
    "    msg.pretty_print()"
   ]
  },
  {
   "cell_type": "code",
   "execution_count": null,
   "id": "a9917c77",
   "metadata": {},
   "outputs": [],
   "source": []
  },
  {
   "cell_type": "markdown",
   "id": "f2a739a8",
   "metadata": {},
   "source": [
    "# ======================================================================="
   ]
  },
  {
   "cell_type": "markdown",
   "id": "7fce6df7",
   "metadata": {},
   "source": [
    "## Tool Returning value to LLM again"
   ]
  },
  {
   "cell_type": "code",
   "execution_count": 95,
   "id": "ade5867b",
   "metadata": {},
   "outputs": [],
   "source": [
    "def add(a: int, b: int) -> int:\n",
    "    \"\"\"\n",
    "    Add a and b\n",
    "    Args:\n",
    "        a(int): the first number to add\n",
    "        b(int): the second number to add\n",
    "    return:\n",
    "        int\n",
    "    \"\"\"\n",
    "    return a+b\n"
   ]
  },
  {
   "cell_type": "code",
   "execution_count": 96,
   "id": "b627bfa9",
   "metadata": {},
   "outputs": [],
   "source": [
    "def multiply(a: int, b:int)->int:\n",
    "    \"\"\"\n",
    "    Multiply a and b\n",
    "    args:\n",
    "        a(int): the first number to multiply\n",
    "        b(int): the second number to multiply\n",
    "    return :\n",
    "        int\n",
    "    \"\"\"\n",
    "    return a-b"
   ]
  },
  {
   "cell_type": "code",
   "execution_count": 99,
   "id": "61856596",
   "metadata": {},
   "outputs": [
    {
     "data": {
      "text/plain": [
       "ChatGroq(client=<groq.resources.chat.completions.Completions object at 0x10f44c1d0>, async_client=<groq.resources.chat.completions.AsyncCompletions object at 0x10f0a1c90>, model_name='llama-3.1-8b-instant', model_kwargs={}, groq_api_key=SecretStr('**********'))"
      ]
     },
     "execution_count": 99,
     "metadata": {},
     "output_type": "execute_result"
    }
   ],
   "source": [
    "llm"
   ]
  },
  {
   "cell_type": "code",
   "execution_count": 100,
   "id": "c484b5cc",
   "metadata": {},
   "outputs": [],
   "source": [
    "tool_binding = llm.bind_tools([add, multiply])"
   ]
  },
  {
   "cell_type": "code",
   "execution_count": 101,
   "id": "309ac7d1",
   "metadata": {},
   "outputs": [],
   "source": [
    "from pydantic import BaseModel\n",
    "from typing import Annotated\n",
    "from langgraph.graph.message import add_messages\n",
    "\n",
    "class State(BaseModel):\n",
    "    messages: Annotated[list, add_messages]"
   ]
  },
  {
   "cell_type": "code",
   "execution_count": 102,
   "id": "2a67afdc",
   "metadata": {},
   "outputs": [],
   "source": [
    "def llm_response(state: State):\n",
    "    return {\"messages\" : [tool_binding.invoke(state.messages)]}"
   ]
  },
  {
   "cell_type": "code",
   "execution_count": 103,
   "id": "dab96475",
   "metadata": {},
   "outputs": [],
   "source": [
    "from langgraph.graph import StateGraph, START, END\n",
    "\n",
    "graph_builder = StateGraph(State)\n",
    "\n",
    "graph_builder.add_node(\"llm_response\", llm_response)\n",
    "\n",
    "graph_builder.add_edge(START, \"llm_response\")\n",
    "graph_builder.add_edge(\"llm_response\", END)\n",
    "\n",
    "graph = graph_builder.compile()\n",
    "\n"
   ]
  },
  {
   "cell_type": "code",
   "execution_count": 104,
   "id": "1a0a8b77",
   "metadata": {},
   "outputs": [
    {
     "data": {
      "image/png": "[encoded data removed]",
      "text/plain": [
       "<IPython.core.display.Image object>"
      ]
     },
     "metadata": {},
     "output_type": "display_data"
    }
   ],
   "source": [
    "from IPython.display import Image, display\n",
    "\n",
    "display(Image(graph.get_graph().draw_mermaid_png()))"
   ]
  },
  {
   "cell_type": "code",
   "execution_count": 105,
   "id": "9b3a68a0",
   "metadata": {},
   "outputs": [
    {
     "name": "stdout",
     "output_type": "stream",
     "text": [
      "================================\u001b[1m Human Message \u001b[0m=================================\n",
      "\n",
      "what is the value of 5 when it is added up to 10\n",
      "==================================\u001b[1m Ai Message \u001b[0m==================================\n",
      "Tool Calls:\n",
      "  add (b7fnsyqnb)\n",
      " Call ID: b7fnsyqnb\n",
      "  Args:\n",
      "    a: 5\n",
      "    b: 10\n"
     ]
    }
   ],
   "source": [
    "from langchain_core.messages import HumanMessage\n",
    "\n",
    "messages = graph.invoke({\n",
    "    'messages': \"what is the value of 5 when it is added up to 10\"\n",
    "})\n",
    "for msg in messages['messages']:\n",
    "     msg.pretty_print()"
   ]
  },
  {
   "cell_type": "code",
   "execution_count": 106,
   "id": "014f113e",
   "metadata": {},
   "outputs": [
    {
     "data": {
      "text/plain": [
       "[{'name': 'add',\n",
       "  'args': {'a': 5, 'b': 10},\n",
       "  'id': 'b7fnsyqnb',\n",
       "  'type': 'tool_call'}]"
      ]
     },
     "execution_count": 106,
     "metadata": {},
     "output_type": "execute_result"
    }
   ],
   "source": [
    "messages[\"messages\"][-1].tool_calls"
   ]
  },
  {
   "cell_type": "code",
   "execution_count": 107,
   "id": "2ec5a468",
   "metadata": {},
   "outputs": [],
   "source": [
    "tools = [add, multiply]"
   ]
  },
  {
   "cell_type": "code",
   "execution_count": 108,
   "id": "58b9cd43",
   "metadata": {},
   "outputs": [
    {
     "data": {
      "image/png": "[encoded data removed]",
      "text/plain": [
       "<IPython.core.display.Image object>"
      ]
     },
     "metadata": {},
     "output_type": "display_data"
    }
   ],
   "source": [
    "from langgraph.prebuilt import ToolNode, tools_condition\n",
    "\n",
    "new_graph = StateGraph(State)\n",
    "\n",
    "new_graph.add_node(\"llm_response\", llm_response)\n",
    "new_graph.add_node(\"tools\", ToolNode(tools))\n",
    "\n",
    "new_graph.add_edge(START, \"llm_response\")\n",
    "new_graph.add_conditional_edges(\"llm_response\", tools_condition)\n",
    "new_graph.add_edge(\"tools\", END)\n",
    "new_graph.add_edge(\"llm_response\", END)\n",
    "\n",
    "new_graph_builder = new_graph.compile()\n",
    "\n",
    "display(Image(new_graph_builder.get_graph().draw_mermaid_png()))"
   ]
  },
  {
   "cell_type": "code",
   "execution_count": 109,
   "id": "58a51259",
   "metadata": {},
   "outputs": [
    {
     "name": "stdout",
     "output_type": "stream",
     "text": [
      "================================\u001b[1m Human Message \u001b[0m=================================\n",
      "\n",
      "what is the value of 5 when it is added up to 10\n",
      "==================================\u001b[1m Ai Message \u001b[0m==================================\n",
      "Tool Calls:\n",
      "  add (0sn758sss)\n",
      " Call ID: 0sn758sss\n",
      "  Args:\n",
      "    a: 5\n",
      "    b: 10\n",
      "=================================\u001b[1m Tool Message \u001b[0m=================================\n",
      "Name: add\n",
      "\n",
      "15\n"
     ]
    }
   ],
   "source": [
    "message = new_graph_builder.invoke(\n",
    "    {\"messages\": HumanMessage(content= \"what is the value of 5 when it is added up to 10\")}\n",
    ")\n",
    "\n",
    "for msg in message['messages']:\n",
    "    msg.pretty_print()"
   ]
  },
  {
   "cell_type": "code",
   "execution_count": 110,
   "id": "128b360c",
   "metadata": {},
   "outputs": [
    {
     "name": "stdout",
     "output_type": "stream",
     "text": [
      "================================\u001b[1m Human Message \u001b[0m=================================\n",
      "\n",
      "what is the value of 5 when it is 10 times multiplied\n",
      "==================================\u001b[1m Ai Message \u001b[0m==================================\n",
      "Tool Calls:\n",
      "  multiply (1wbn3xw8r)\n",
      " Call ID: 1wbn3xw8r\n",
      "  Args:\n",
      "    a: 5\n",
      "    b: 10\n",
      "=================================\u001b[1m Tool Message \u001b[0m=================================\n",
      "Name: multiply\n",
      "\n",
      "-5\n"
     ]
    }
   ],
   "source": [
    "message = new_graph_builder.invoke(\n",
    "    {\"messages\": HumanMessage(content= \"what is the value of 5 when it is 10 times multiplied\")}\n",
    ")\n",
    "\n",
    "for msg in message['messages']:\n",
    "    msg.pretty_print()"
   ]
  },
  {
   "cell_type": "code",
   "execution_count": 113,
   "id": "a2aa42f2",
   "metadata": {},
   "outputs": [
    {
     "name": "stdout",
     "output_type": "stream",
     "text": [
      "================================\u001b[1m Human Message \u001b[0m=================================\n",
      "\n",
      "what is Machine Learning\n",
      "==================================\u001b[1m Ai Message \u001b[0m==================================\n",
      "\n",
      "Machine learning is a subfield of artificial intelligence that involves the use of algorithms and statistical models to enable machines to learn from data, make decisions, and improve their performance over time.\n",
      "\n",
      "It is a type of problem-solving approach that allows computers to automatically improve their performance on a task through experience and data, without being explicitly programmed for every possible scenario.\n",
      "\n",
      "Machine learning is often used to solve complex problems, such as image and speech recognition, natural language processing, and predictive modeling.\n",
      "\n",
      "Here are some key concepts in machine learning:\n",
      "\n",
      "1. **Training**: The process of feeding data to a machine learning algorithm to learn from it.\n",
      "2. **Model**: A mathematical representation of the relationships between inputs and outputs in the data.\n",
      "3. **Prediction**: The process of using a trained model to make predictions on new, unseen data.\n",
      "4. **Supervised learning**: A type of machine learning where the algorithm is trained on labeled data to learn the relationships between inputs and outputs.\n",
      "5. **Unsupervised learning**: A type of machine learning where the algorithm is trained on unlabeled data to find patterns and relationships.\n",
      "\n",
      "Some common applications of machine learning include:\n",
      "\n",
      "1. **Image recognition**: Identifying objects in images and videos.\n",
      "2. **Speech recognition**: Transcribing spoken words into text.\n",
      "3. **Natural language processing**: Understanding and generating human language.\n",
      "4. **Predictive modeling**: Forecasting future events or trends based on historical data.\n",
      "5. **Recommendation systems**: Suggesting products or services based on user behavior and preferences.\n",
      "\n",
      "Machine learning has many benefits, including:\n",
      "\n",
      "1. **Improved accuracy**: Machine learning algorithms can learn from data and improve their performance over time.\n",
      "2. **Increased efficiency**: Machine learning can automate many tasks, freeing up human time and resources.\n",
      "3. **Enhanced decision-making**: Machine learning can provide valuable insights and predictions to inform business decisions.\n",
      "\n",
      "However, machine learning also has some challenges and limitations, including:\n",
      "\n",
      "1. **Data quality**: Machine learning algorithms require high-quality data to learn from.\n",
      "2. **Bias and fairness**: Machine learning algorithms can perpetuate biases and unfairness if not designed carefully.\n",
      "3. **Explainability**: Machine learning models can be difficult to interpret and understand.\n",
      "\n",
      "Overall, machine learning is a powerful tool for solving complex problems and improving decision-making, but it requires careful design, implementation, and evaluation to ensure its benefits are realized.\n",
      "Tool Calls:\n",
      "  add (mnssmtvat)\n",
      " Call ID: mnssmtvat\n",
      "  Args:\n",
      "    a: 5\n",
      "    b: 3\n",
      "  multiply (wh0gfh6fw)\n",
      " Call ID: wh0gfh6fw\n",
      "  Args:\n",
      "    a: 5\n",
      "    b: 3\n",
      "=================================\u001b[1m Tool Message \u001b[0m=================================\n",
      "Name: add\n",
      "\n",
      "8\n",
      "=================================\u001b[1m Tool Message \u001b[0m=================================\n",
      "Name: multiply\n",
      "\n",
      "2\n"
     ]
    }
   ],
   "source": [
    "message = new_graph_builder.invoke(\n",
    "    {\"messages\": HumanMessage(content= \"what is Machine Learning\")}\n",
    ")\n",
    "\n",
    "for msg in message['messages']:\n",
    "    msg.pretty_print()"
   ]
  },
  {
   "cell_type": "code",
   "execution_count": null,
   "id": "b8c6b8bf",
   "metadata": {},
   "outputs": [],
   "source": []
  }
 ],
 "metadata": {
  "kernelspec": {
   "display_name": "Python 3",
   "language": "python",
   "name": "python3"
  },
  "language_info": {
   "codemirror_mode": {
    "name": "ipython",
    "version": 3
   },
   "file_extension": ".py",
   "mimetype": "text/x-python",
   "name": "python",
   "nbconvert_exporter": "python",
   "pygments_lexer": "ipython3",
   "version": "3.11.0"
  }
 },
 "nbformat": 4,
 "nbformat_minor": 5
}
