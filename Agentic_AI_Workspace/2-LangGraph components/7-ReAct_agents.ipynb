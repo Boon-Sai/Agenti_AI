{
 "cells": [
  {
   "cell_type": "code",
   "execution_count": 1,
   "id": "86e9475a",
   "metadata": {},
   "outputs": [],
   "source": [
    "from langchain_community.tools import ArxivQueryRun, WikipediaQueryRun\n",
    "from langchain_community.utilities import ArxivAPIWrapper, WikipediaAPIWrapper\n"
   ]
  },
  {
   "cell_type": "code",
   "execution_count": 2,
   "id": "4d768173",
   "metadata": {},
   "outputs": [
    {
     "name": "stdout",
     "output_type": "stream",
     "text": [
      "arxiv\n"
     ]
    }
   ],
   "source": [
    "api_wrapper_arxiv = ArxivAPIWrapper(top_k_results=2, doc_content_chars_max=500)\n",
    "arxiv = ArxivQueryRun(api_wrapper=api_wrapper_arxiv)\n",
    "print(arxiv.name)"
   ]
  },
  {
   "cell_type": "code",
   "execution_count": 3,
   "id": "6dc58d64",
   "metadata": {},
   "outputs": [
    {
     "data": {
      "text/plain": [
       "'Published: 2022-09-18\\nTitle: The Mosquito incident and the need-(not-)to-know\\nAuthors: Karl Svozil\\nSummary: I am reporting here how professor Cristian Sorin Calude, henceforth called\\nCris, became involved in the \"Mosquito incident\". More generally, the\\nrelationship between the single individual vis-a-vis the state or collective is\\nreviewed, with special emphasis to need-(not)-to-know secrets.\\n\\nPublished: 2012-12-08\\nTitle: Specker\\'s fundamental principle of quantum mechanics\\nAuthors: Adan Cabello'"
      ]
     },
     "execution_count": 3,
     "metadata": {},
     "output_type": "execute_result"
    }
   ],
   "source": [
    "arxiv.invoke(\"What is attention is all you need?\")"
   ]
  },
  {
   "cell_type": "code",
   "execution_count": 4,
   "id": "eb69c22d",
   "metadata": {},
   "outputs": [
    {
     "name": "stdout",
     "output_type": "stream",
     "text": [
      "wikipedia\n"
     ]
    }
   ],
   "source": [
    "wiki_wrapper_arxiv = WikipediaAPIWrapper(top_k_results=1, doc_content_chars_max=500)\n",
    "wiki=WikipediaQueryRun(api_wrapper=wiki_wrapper_arxiv)\n",
    "print(wiki.name)"
   ]
  },
  {
   "cell_type": "code",
   "execution_count": 5,
   "id": "04172780",
   "metadata": {},
   "outputs": [
    {
     "data": {
      "text/plain": [
       "'Page: Machine learning\\nSummary: Machine learning (ML) is a field of study in artificial intelligence concerned with the development and study of statistical algorithms that can learn from data and generalise to unseen data, and thus perform tasks without explicit instructions. Within a subdiscipline in machine learning, advances in the field of deep learning have allowed neural networks, a class of statistical algorithms, to surpass many previous machine learning approaches in performance.\\nML fi'"
      ]
     },
     "execution_count": 5,
     "metadata": {},
     "output_type": "execute_result"
    }
   ],
   "source": [
    "wiki.invoke(\"What is Machine learning?\")"
   ]
  },
  {
   "cell_type": "code",
   "execution_count": 6,
   "id": "c7bbf12c",
   "metadata": {},
   "outputs": [],
   "source": [
    "from dotenv import load_dotenv\n",
    "\n",
    "load_dotenv()\n",
    "\n",
    "import os\n",
    "\n",
    "os.environ['GROQ_API_KEY'] = os.getenv('GROQ_API_KEY')\n",
    "os.environ['TAVILY_API_KEY'] = os.getenv('TAVILY_API_KEY')\n",
    "os.environ['LANGCHAIN_API_KEY'] = os.getenv(\"LANGCHAIN_API_KEY\")\n",
    "os.environ['LANGCHAIN_TRACING_V2'] = 'true'\n",
    "os.environ['LANGCHAIN_PROJECT'] = \"ReAct-agent\"\n"
   ]
  },
  {
   "cell_type": "code",
   "execution_count": 7,
   "id": "64ac57e3",
   "metadata": {},
   "outputs": [
    {
     "name": "stderr",
     "output_type": "stream",
     "text": [
      "/var/folders/m1/w29m4r7d2jqd3x6kl1chyshm0000gp/T/ipykernel_8464/358467908.py:5: LangChainDeprecationWarning: The class `TavilySearchResults` was deprecated in LangChain 0.3.25 and will be removed in 1.0. An updated version of the class exists in the :class:`~langchain-tavily package and should be used instead. To use it run `pip install -U :class:`~langchain-tavily` and import as `from :class:`~langchain_tavily import TavilySearch``.\n",
      "  tavily = TavilySearchResults()\n"
     ]
    }
   ],
   "source": [
    "# Tavily search tool\n",
    "\n",
    "from langchain_community.tools.tavily_search import TavilySearchResults\n",
    "\n",
    "tavily = TavilySearchResults()"
   ]
  },
  {
   "cell_type": "markdown",
   "id": "2663822c",
   "metadata": {},
   "source": [
    "## creating custom tools"
   ]
  },
  {
   "cell_type": "code",
   "execution_count": 8,
   "id": "a90c84ae",
   "metadata": {},
   "outputs": [],
   "source": [
    "# Creating custom function\n",
    "\n",
    "def multiple(a: int, b: int) -> int:\n",
    "    \"\"\"Multiply a and b\n",
    "    Args:\n",
    "        a: fitst int\n",
    "        b: second int\n",
    "    \"\"\"\n",
    "    return a * b\n",
    "\n",
    "def add(a: int, b: int) -> int:\n",
    "    \"\"\"\n",
    "    Add a and b\n",
    "    args:\n",
    "        a: first int\n",
    "        b: second int\n",
    "    \"\"\"\n",
    "    return a + b\n",
    "\n",
    "def divide(a: int, b: int) -> float:\n",
    "    \"\"\"\n",
    "    Divide a by b\n",
    "    args:\n",
    "        a: fitst int\n",
    "        b: second int\n",
    "    \"\"\"\n",
    "    return a / b\n"
   ]
  },
  {
   "cell_type": "code",
   "execution_count": null,
   "id": "9459393a",
   "metadata": {},
   "outputs": [],
   "source": []
  },
  {
   "cell_type": "markdown",
   "id": "e36ba9ef",
   "metadata": {},
   "source": [
    "## Creating tools\n"
   ]
  },
  {
   "cell_type": "code",
   "execution_count": 9,
   "id": "25ee4195",
   "metadata": {},
   "outputs": [],
   "source": [
    "tools = [arxiv, wiki, tavily, add, multiple, divide]"
   ]
  },
  {
   "cell_type": "markdown",
   "id": "4978ed85",
   "metadata": {},
   "source": [
    "## LLM invoketion"
   ]
  },
  {
   "cell_type": "code",
   "execution_count": 10,
   "id": "05609f71",
   "metadata": {},
   "outputs": [],
   "source": [
    "from langchain_groq import ChatGroq\n",
    "\n",
    "LLM = ChatGroq(model='llama-3.1-8b-instant')"
   ]
  },
  {
   "cell_type": "code",
   "execution_count": 11,
   "id": "be49a8b5",
   "metadata": {},
   "outputs": [],
   "source": [
    "from pydantic import BaseModel\n",
    "from langchain_core.messages import AIMessage, HumanMessage\n",
    "from langgraph.graph import StateGraph, START, END\n",
    "from langgraph.graph.message import AnyMessage, add_messages\n",
    "from typing import Annotated\n",
    "\n",
    "class State(BaseModel):\n",
    "    messages: Annotated[list[AnyMessage], add_messages]"
   ]
  },
  {
   "cell_type": "code",
   "execution_count": 12,
   "id": "3417d76c",
   "metadata": {},
   "outputs": [],
   "source": [
    "llm_with_tools = LLM.bind_tools(tools)"
   ]
  },
  {
   "cell_type": "markdown",
   "id": "a4b81cd0",
   "metadata": {},
   "source": [
    "#### LLM tool creation"
   ]
  },
  {
   "cell_type": "code",
   "execution_count": 13,
   "id": "ee1e4122",
   "metadata": {},
   "outputs": [],
   "source": [
    "def llm_tool(state: State):\n",
    "    return {'messages': llm_with_tools.invoke(state.messages)}"
   ]
  },
  {
   "cell_type": "code",
   "execution_count": 14,
   "id": "3188c742",
   "metadata": {},
   "outputs": [
    {
     "data": {
      "image/png": "[encoded data removed]",
      "text/plain": [
       "<IPython.core.display.Image object>"
      ]
     },
     "metadata": {},
     "output_type": "display_data"
    }
   ],
   "source": [
    "from langgraph.prebuilt import ToolNode, tools_condition\n",
    "from IPython.display import display, Image\n",
    "\n",
    "builder = StateGraph(State)\n",
    "\n",
    "builder.add_node('llm', llm_tool)\n",
    "builder.add_node('tools', ToolNode(tools))\n",
    "\n",
    "builder.add_edge(START, \"llm\")\n",
    "builder.add_conditional_edges(\"llm\", tools_condition)\n",
    "builder.add_edge('tools', \"llm\") # This is something that makes agent into ReAct type\n",
    "\n",
    "graph = builder.compile()\n",
    "\n",
    "display(Image(graph.get_graph().draw_mermaid_png()))"
   ]
  },
  {
   "cell_type": "code",
   "execution_count": 17,
   "id": "1b9a0ce7",
   "metadata": {},
   "outputs": [
    {
     "name": "stdout",
     "output_type": "stream",
     "text": [
      "================================\u001b[1m Human Message \u001b[0m=================================\n",
      "\n",
      "provide me the top 10 AI news, then give me the addition of 5 and 6 and multiply it with 10.\n",
      "==================================\u001b[1m Ai Message \u001b[0m==================================\n",
      "Tool Calls:\n",
      "  tavily_search_results_json (9ms78pef5)\n",
      " Call ID: 9ms78pef5\n",
      "  Args:\n",
      "    query: AI news top 10\n",
      "  add (trxe1f3bw)\n",
      " Call ID: trxe1f3bw\n",
      "  Args:\n",
      "    a: 5\n",
      "    b: 6\n",
      "  multiple (k6zszyxnx)\n",
      " Call ID: k6zszyxnx\n",
      "  Args:\n",
      "    a: 30\n",
      "    b: 10\n",
      "=================================\u001b[1m Tool Message \u001b[0m=================================\n",
      "Name: tavily_search_results_json\n",
      "\n",
      "[{\"title\": \"AI 2024 in review: The 10 most notable AI stories of the year\", \"url\": \"https://iot-analytics.com/ai-2024-10-most-notable-stories/\", \"content\": \"### 10. Largest AI-related funding rounds: Databricks, OpenAI, and xAI\\n\\nDatabricks investments soar on the wings of AI. On December 17, 2024, US-based AI cloud data platform Databricks announced it had raised $10 billion in Series J funding, crowning it 2024’s largest venture capital round. This investment brought Databricks’ value to $62 billion. [...] ### 9. Largest corporate self-investment into AI: Amazon\\n\\nAmazon invested heavily in its data centers and AI. During Amazon’s earnings call on October 31, 2024, CEO Andy Jassy stated that the company’s 2024 capital expenditures (CAPEX) would reach $75 billion, with the largest share going to AWS and AI. By this point, Amazon had spent $22.6 billion on data center expansion, including for property and equipment, up 81% year-over-year. [...] Throughout 2024, IoT Analytics monitored significant developments regarding AI technology as part of its growing coverage of the field. From the IoT Analytics team’s perspective, many of the news stories below spoke to larger trends that appeared or became more pronounced throughout the year. With this, in the team’s opinion, these are the 10 most notable stories for AI in 2024, including the key news stories behind them (in chronological order of the leading stories we highlight).\", \"score\": 0.77261686}, {\"title\": \"The Top 10 AI Stories of 2024 - IEEE Spectrum\", \"url\": \"https://spectrum.ieee.org/top-ai-stories-2024\", \"content\": \"In 2024, we highlighted investment in generative AI, the cost and environmental footprint of training foundation models, corporate reports of AI helping the bottom line, and public wariness of AI.\\n\\n## 7. A New Type of Neural Network Is More Interpretable\\n\\niStock [...] Harris and Willner contacted companies to ask for responses to these allegations and, perhaps in response to their inquiries, Stable Diffusion 1.5 promptly disappeared from Hugging Face. The authors argue that it’s time for AI companies and hosting platforms to take seriously their potential liability.\\n\\n## 10. The Messy Reality Behind a Silicon Valley Unicorn\\n\\nThe Voorhes [...] For next steps, the traffic czar plans to integrate data from security cameras throughout the city, which would allow for automated vehicle counting and classification, as well as data from food delivery and ride sharing companies.\\n\\n## 9. Was an AI Image Generator Taken Down for Making Child Porn?\\n\\nMike Kemp/Getty Images\", \"score\": 0.76701033}, {\"title\": \"AI News | Latest AI News, Analysis & Events\", \"url\": \"https://www.artificialintelligence-news.com/\", \"content\": \"October 7, 2025\\n\\n### Spot AI introduces the world’s first universal AI agent builder for security cameras\\n\\nArtificial Intelligence\\n\\nApril 10, 2025\\n\\n### Tony Blair Institute AI copyright report sparks backlash\\n\\nArtificial Intelligence\\n\\nApril 2, 2025\\n\\nImage 23\\n\\n#### Enterprise\\n\\n### Gemini Enterprise: Google aims to put an AI agent on every desk\\n\\nAI and Us\\n\\nOctober 9, 2025\\n\\n### AI value remains elusive despite soaring investment\\n\\nAI Business Strategy\\n\\nOctober 9, 2025 [...] ### The value gap from AI investments is widening dangerously fast\\n\\nAI Business Strategy\\n\\nSeptember 30, 2025\\n\\n#### Industries\\n\\n### Gemini Enterprise: Google aims to put an AI agent on every desk\\n\\nAI and Us\\n\\nOctober 9, 2025\\n\\n### China Mobile Shanghai launches industry-first 5G-A network monetisation strategy with Huawei\\n\\nInfrastructure & Hardware\\n\\nOctober 3, 2025\\n\\n### Reply’s pre-built AI apps aim to fast-track AI adoption\\n\\nFinance AI\\n\\nSeptember 30, 2025\\n\\n#### Deep Learning [...] ### AI is rewriting the rules of the insurance industry\\n\\nAI in Action\\n\\nJuly 11, 2025\\n\\n#### Computer Vision\\n\\n### US and Japan announce sweeping AI and tech collaboration\\n\\nArtificial Intelligence\\n\\nApril 11, 2024\\n\\n### UK and Canada sign AI compute agreement\\n\\nArtificial Intelligence\\n\\nJanuary 31, 2024\\n\\n### Quantum AI represents a ‘transformative advancement’\\n\\nAI Hardware & Chips\\n\\nNovember 14, 2023\\n\\n#### Machine Learning\\n\\n### How AI is changing the way we travel\\n\\nArtificial Intelligence\", \"score\": 0.75464433}, {\"title\": \"The Latest AI News and AI Breakthroughs that Matter Most: 2025\", \"url\": \"https://www.crescendo.ai/news/latest-ai-news-and-updates\", \"content\": \"Date: September 7, 2025Summary: Dutch chip-equipment giant ASML is set to become the largest shareholder in European AI startup Mistral AI by leading its €1.7 billion funding round with a €1.3 billion investment. The capital infusion values Mistral at €10 billion, making it the most valuable AI company in Europe. ASML will likely gain a board seat and could integrate Mistral’s AI and analytics capabilities into its lithography tools to boost efficiency and development. This move marks a [...] Source:_ New AI Method Maps How Tuberculosis Drugs Destroy Bacteria\\n\\nDate: August 28, 2025\\n\\nSummary: Researchers at Tufts University developed DECIPHAER, an AI-assisted system that maps the precise mechanisms through which TB drugs kill bacterial cells, by linking visual cell images to gene activity. This innovation could accelerate the design of smarter, shorter treatment regimens and potentially inform strategies for other infectious diseases and cancer therapies. [...] ### Deutsche Telekom Taps AI to Optimize 5G Network Operations\\n\\nDate: August 14, 2025\\n\\nSummary: Deutsche Telekom is leveraging AI to improve the performance and efficiency of its 5G network. The AI system monitors real-time traffic and automatically adjusts bandwidth, ensuring better connectivity. The initiative aims to lower operational costs and boost user experience. It's part of a broader digital transformation strategy.\\n\\nSource:RCR Wireless\", \"score\": 0.7230167}, {\"title\": \"AI Magazine: Home of AI and Artificial Intelligence News\", \"url\": \"https://aimagazine.com/\", \"content\": \"GPU platforms are improving deep learning, making the platforms essential for enterprises aiming to accelerate innovation and machine learning…\\n\\n### Top 10: Chatbots\\n\\nAI assistants have evolved from simple chatbots into sophisticated digital colleagues capable of thinking, data analysis and decision-making…\\n\\n### Top 10: AI Data Lakes\\n\\nData & Analytics\\n\\n### Top 10: Data Labelling Tools\\n\\nData & Analytics\\n\\n#MostPopular\\n\\n #1\\n\\n  Data & Analytics\\n\\n  Top 10: Data Labelling Tools\\n #2\", \"score\": 0.68140936}]\n",
      "=================================\u001b[1m Tool Message \u001b[0m=================================\n",
      "Name: add\n",
      "\n",
      "11\n",
      "=================================\u001b[1m Tool Message \u001b[0m=================================\n",
      "Name: multiple\n",
      "\n",
      "300\n",
      "==================================\u001b[1m Ai Message \u001b[0m==================================\n",
      "\n",
      "The top 10 AI news are from various sources, including IoT Analytics, IEEE Spectrum, and Artificial Intelligence News. The news include stories about AI investments, corporate reports, public wariness of AI, and AI applications in industries such as insurance and travel.\n",
      "\n",
      "The addition of 5 and 6 is 11. Multiplying this by 10 results in 110.\n"
     ]
    }
   ],
   "source": [
    "from pprint import pprint\n",
    "message = graph.invoke({'messages': \"provide me the top 10 AI news, then give me the addition of 5 and 6 and multiply it with 10.\"\n",
    "})\n",
    "\n",
    "\n",
    "for msg in message['messages']:\n",
    "    msg.pretty_print()"
   ]
  },
  {
   "cell_type": "code",
   "execution_count": null,
   "id": "17a934b2",
   "metadata": {},
   "outputs": [],
   "source": []
  },
  {
   "cell_type": "code",
   "execution_count": null,
   "id": "2e79ce2d",
   "metadata": {},
   "outputs": [],
   "source": []
  },
  {
   "cell_type": "code",
   "execution_count": null,
   "id": "2307b675",
   "metadata": {},
   "outputs": [],
   "source": []
  },
  {
   "cell_type": "code",
   "execution_count": null,
   "id": "83aedc64",
   "metadata": {},
   "outputs": [],
   "source": []
  },
  {
   "cell_type": "code",
   "execution_count": null,
   "id": "ec48a1f2",
   "metadata": {},
   "outputs": [],
   "source": []
  },
  {
   "cell_type": "code",
   "execution_count": null,
   "id": "b81bbd83",
   "metadata": {},
   "outputs": [],
   "source": []
  }
 ],
 "metadata": {
  "kernelspec": {
   "display_name": "Python 3",
   "language": "python",
   "name": "python3"
  },
  "language_info": {
   "codemirror_mode": {
    "name": "ipython",
    "version": 3
   },
   "file_extension": ".py",
   "mimetype": "text/x-python",
   "name": "python",
   "nbconvert_exporter": "python",
   "pygments_lexer": "ipython3",
   "version": "3.11.0"
  }
 },
 "nbformat": 4,
 "nbformat_minor": 5
}
