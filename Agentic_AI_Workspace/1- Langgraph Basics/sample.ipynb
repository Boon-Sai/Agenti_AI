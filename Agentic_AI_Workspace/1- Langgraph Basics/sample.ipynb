{
 "cells": [
  {
   "cell_type": "markdown",
   "id": "9fdfaad2",
   "metadata": {},
   "source": [
    "### Build a Simple Workflow or Graph Using LangGraph\n",
    "\n",
    "#### State\n",
    "First, define the State of the graph.\n",
    "\n",
    "The State schema serves as the input schema for all Nodes and Edges in the graph.\n",
    "\n",
    "Let's use the TypedDict class from python's typing module as our schema, which provides type hints for the keys."
   ]
  },
  {
   "cell_type": "code",
   "execution_count": null,
   "id": "773ab34a",
   "metadata": {},
   "outputs": [],
   "source": [
    "from typing_extensions import TypedDict\n",
    "\n",
    "class State(TypedDict):\n",
    "    graph_info: str\n",
    "\n",
    "# Define a TypedDict named `State`\n",
    "# TypedDict acts as a type hint for dictionaries, specifying expected keys and their value types.\n",
    "# Here, `State` specifies that any dictionary of this type must have:\n",
    "#   - a key 'graph_info'\n",
    "#   - with a value of type `str`\n",
    "# This effectively makes `graph_info` a \"parameter\" of the `State` dictionary schema,\n",
    "# allowing type checkers and IDEs to enforce correct usage.\n"
   ]
  },
  {
   "cell_type": "markdown",
   "id": "93230072",
   "metadata": {},
   "source": [
    "#### Nodes\n",
    "Nodes are just python functions.\n",
    "\n",
    "The first positional argument is the state, as defined above.\n",
    "\n",
    "Because the state is a TypedDict with schema as defined above, each node can access the key, graph_state, with state['graph_state'].\n",
    "\n",
    "Each node returns a new value of the state key graph_state.\n",
    "\n",
    "By default, the new value returned by each node will override the prior state value."
   ]
  },
  {
   "cell_type": "code",
   "execution_count": 4,
   "id": "b5c38e07",
   "metadata": {},
   "outputs": [],
   "source": [
    "def start_play(state: State):\n",
    "    print(\"start_play node has been called..\")\n",
    "    return {\"graph_info\": state['graph_info'] + \" I'm planning to play\"}\n",
    "\n",
    "def cricket(state: State):\n",
    "    print(\"My cricket node has been called...\")\n",
    "    return {\"graph_info\": state['graph_info'] + \" Cricket\"}\n",
    "\n",
    "def badminton(state: State):\n",
    "    print(\"My badmintion node has been called...\")\n",
    "    return {\"graph_info\": state[\"graph_info\"] + \"Badminton\"}"
   ]
  },
  {
   "cell_type": "code",
   "execution_count": null,
   "id": "7aa76ecf",
   "metadata": {},
   "outputs": [],
   "source": [
    "import random\n",
    "from typing import Literal # Used to indicate that a variable can only take specific, literal values (constants) for type checking\n",
    "\n",
    "def random_play(state: State)-> Literal['cricket', 'badminton']:\n",
    "    graph_info = state['graph_info']\n",
    "\n",
    "    if random.random() > 0.5: return 'cricket'\n",
    "    else: return 'badminton'"
   ]
  },
  {
   "cell_type": "markdown",
   "id": "eccb9cc9",
   "metadata": {},
   "source": [
    "#### Graph Construction\n",
    "Now, we build the graph from our components defined above.\n",
    "\n",
    "The StateGraph class is the graph class that we can use.\n",
    "\n",
    "First, we initialize a StateGraph with the State class we defined above.\n",
    "\n",
    "Then, we add our nodes and edges.\n",
    "\n",
    "We use the START Node, a special node that sends user input to the graph, to indicate where to start our graph.\n",
    "\n",
    "The END Node is a special node that represents a terminal node.\n",
    "\n",
    "Finally, we compile our graph to perform a few basic checks on the graph structure.\n",
    "\n",
    "We can visualize the graph as a Mermaid diagram."
   ]
  },
  {
   "cell_type": "code",
   "execution_count": 6,
   "id": "63716198",
   "metadata": {},
   "outputs": [
    {
     "data": {
      "image/jpeg": "[encoded data removed]",
      "text/plain": [
       "<IPython.core.display.Image object>"
      ]
     },
     "metadata": {},
     "output_type": "display_data"
    }
   ],
   "source": [
    "from IPython.display import Image,display\n",
    "from langgraph.graph import StateGraph,START,END\n",
    "\n",
    "## Build Graph\n",
    "graph=StateGraph(State)\n",
    "\n",
    "## Adding the nodes\n",
    "graph.add_node(\"start_play\",start_play)\n",
    "graph.add_node(\"cricket\",cricket)\n",
    "graph.add_node(\"badminton\",badminton)\n",
    "\n",
    "## Schedule the flow of the graph\n",
    "\n",
    "graph.add_edge(START,\"start_play\")\n",
    "graph.add_conditional_edges(\"start_play\",random_play)\n",
    "graph.add_edge(\"cricket\",END)\n",
    "graph.add_edge(\"badminton\",END)\n",
    "\n",
    "## Compile the graph\n",
    "graph_builder=graph.compile()\n",
    "\n",
    "## View\n",
    "display(Image(graph_builder.get_graph().draw_mermaid_png()))"
   ]
  },
  {
   "cell_type": "markdown",
   "id": "c6a67dca",
   "metadata": {},
   "source": [
    "### GRAPH Invocation"
   ]
  },
  {
   "cell_type": "code",
   "execution_count": 7,
   "id": "651a5be0",
   "metadata": {},
   "outputs": [
    {
     "name": "stdout",
     "output_type": "stream",
     "text": [
      "start_play node has been called..\n",
      "My cricket node has been called...\n"
     ]
    },
    {
     "data": {
      "text/plain": [
       "{'graph_info': \"Hey My name is Krish I'm planning to play Cricket\"}"
      ]
     },
     "execution_count": 7,
     "metadata": {},
     "output_type": "execute_result"
    }
   ],
   "source": [
    "graph_builder.invoke({\"graph_info\":\"Hey My name is Krish\"})"
   ]
  },
  {
   "cell_type": "code",
   "execution_count": null,
   "id": "c73eb1ec",
   "metadata": {},
   "outputs": [],
   "source": []
  },
  {
   "cell_type": "code",
   "execution_count": null,
   "id": "858cd21a",
   "metadata": {},
   "outputs": [],
   "source": []
  }
 ],
 "metadata": {
  "kernelspec": {
   "display_name": "Python 3",
   "language": "python",
   "name": "python3"
  },
  "language_info": {
   "codemirror_mode": {
    "name": "ipython",
    "version": 3
   },
   "file_extension": ".py",
   "mimetype": "text/x-python",
   "name": "python",
   "nbconvert_exporter": "python",
   "pygments_lexer": "ipython3",
   "version": "3.11.0"
  }
 },
 "nbformat": 4,
 "nbformat_minor": 5
}
