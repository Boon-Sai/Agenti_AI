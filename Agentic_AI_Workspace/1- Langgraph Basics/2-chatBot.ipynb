{
 "cells": [
  {
   "cell_type": "markdown",
   "id": "0cc9c9f9",
   "metadata": {},
   "source": [
    "# Implementing Simple chatbot using langGraph"
   ]
  },
  {
   "cell_type": "code",
   "execution_count": 2,
   "id": "b3481dbe",
   "metadata": {},
   "outputs": [],
   "source": [
    "from typing_extensions import TypedDict\n",
    "from langgraph.graph import StateGraph, START, END\n",
    "\n",
    "# Reducers\n",
    "from typing import Annotated\n",
    "from langgraph.graph.message import add_messages"
   ]
  },
  {
   "cell_type": "markdown",
   "id": "8ea4d064",
   "metadata": {},
   "source": [
    "Annotated:\n",
    "\n",
    "It annotates the message like the HumanMessage and AIMessage\n",
    "\n",
    "\n",
    "\n",
    "add_messages:\n",
    "\n",
    "Merges two lists of messages, updating existing messages by ID.\n",
    "\n",
    "By default, this ensures the state is \"append-only\", unless the new message has the same ID as an existing message."
   ]
  },
  {
   "cell_type": "code",
   "execution_count": 4,
   "id": "4d99f7ff",
   "metadata": {},
   "outputs": [],
   "source": [
    "class State(TypedDict):\n",
    "    messages: Annotated[list, add_messages] # {messages: [_, _, _, _,.... ]}\n"
   ]
  },
  {
   "cell_type": "code",
   "execution_count": 5,
   "id": "598435de",
   "metadata": {},
   "outputs": [],
   "source": [
    "import os\n",
    "from dotenv import load_dotenv\n",
    "\n",
    "load_dotenv()\n",
    "\n",
    "os.environ[\"GROQ_API_KEY\"] = os.getenv(\"GROQ_API_KEY\")"
   ]
  },
  {
   "cell_type": "code",
   "execution_count": 7,
   "id": "94453378",
   "metadata": {},
   "outputs": [
    {
     "data": {
      "text/plain": [
       "AIMessage(content='Hello. How can I assist you today?', additional_kwargs={}, response_metadata={'token_usage': {'completion_tokens': 10, 'prompt_tokens': 36, 'total_tokens': 46, 'completion_time': 0.010835123, 'prompt_time': 0.001587567, 'queue_time': 0.045437493, 'total_time': 0.01242269}, 'model_name': 'llama-3.1-8b-instant', 'system_fingerprint': 'fp_90c2e79dab', 'service_tier': 'on_demand', 'finish_reason': 'stop', 'logprobs': None}, id='run--617df67b-e0d3-4da2-a41d-fd782e3a09c6-0', usage_metadata={'input_tokens': 36, 'output_tokens': 10, 'total_tokens': 46})"
      ]
     },
     "execution_count": 7,
     "metadata": {},
     "output_type": "execute_result"
    }
   ],
   "source": [
    "from langchain_groq import ChatGroq\n",
    "\n",
    "LLM = ChatGroq(model=\"llama-3.1-8b-instant\")\n",
    "LLM.invoke(\"hello\")"
   ]
  },
  {
   "cell_type": "markdown",
   "id": "cb2881f5",
   "metadata": {},
   "source": [
    "# Creating Nodes"
   ]
  },
  {
   "cell_type": "code",
   "execution_count": 8,
   "id": "088b3aab",
   "metadata": {},
   "outputs": [],
   "source": [
    "def superBot(state: State):\n",
    "    return {\"messages\": [LLM.invoke(state['messages'])]}\n"
   ]
  },
  {
   "cell_type": "code",
   "execution_count": 9,
   "id": "d5c9293b",
   "metadata": {},
   "outputs": [
    {
     "data": {
      "image/png": "[encoded data removed]",
      "text/plain": [
       "<IPython.core.display.Image object>"
      ]
     },
     "metadata": {},
     "output_type": "display_data"
    }
   ],
   "source": [
    "from IPython.display import Image,display\n",
    "\n",
    "graph = StateGraph(State)\n",
    "\n",
    "# adding nodes\n",
    "graph.add_node('SuperBot', superBot)\n",
    "\n",
    "# adding edges\n",
    "graph.add_edge(START, 'SuperBot')\n",
    "graph.add_edge(\"SuperBot\", END)\n",
    "\n",
    "graph_builder = graph.compile()\n",
    "\n",
    "# Displaying\n",
    "display(Image(graph_builder.get_graph().draw_mermaid_png()))"
   ]
  },
  {
   "cell_type": "markdown",
   "id": "021763b4",
   "metadata": {},
   "source": [
    "## Execution"
   ]
  },
  {
   "cell_type": "markdown",
   "id": "2818ad00",
   "metadata": {},
   "source": [
    "### Invocation"
   ]
  },
  {
   "cell_type": "code",
   "execution_count": 10,
   "id": "caa969f4",
   "metadata": {},
   "outputs": [
    {
     "data": {
      "text/plain": [
       "{'messages': [HumanMessage(content='Hi, my name is Boon sai and I like anime', additional_kwargs={}, response_metadata={}, id='0e285351-e3be-4efd-a662-101cd9fb998f'),\n",
       "  AIMessage(content=\"Nice to meet you, Boon sai! It's great to hear that you like anime. There are countless amazing anime shows out there, and I'd be happy to chat with you about your favorite ones or help you discover new ones.\\n\\nWhat kind of anime do you enjoy? Are you into action-packed series, romantic comedies, or perhaps something a bit more psychological?\", additional_kwargs={}, response_metadata={'token_usage': {'completion_tokens': 76, 'prompt_tokens': 47, 'total_tokens': 123, 'completion_time': 0.104207997, 'prompt_time': 0.002241184, 'queue_time': 0.044520736, 'total_time': 0.106449181}, 'model_name': 'llama-3.1-8b-instant', 'system_fingerprint': 'fp_50a6be1b6f', 'service_tier': 'on_demand', 'finish_reason': 'stop', 'logprobs': None}, id='run--bbdebaba-6167-4dab-9048-f820ca86a9db-0', usage_metadata={'input_tokens': 47, 'output_tokens': 76, 'total_tokens': 123})]}"
      ]
     },
     "execution_count": 10,
     "metadata": {},
     "output_type": "execute_result"
    }
   ],
   "source": [
    "# Invocation\n",
    "\n",
    "graph_builder.invoke({\"messages\": \"Hi, my name is Boon sai and I like anime\"})"
   ]
  },
  {
   "cell_type": "markdown",
   "id": "217c5274",
   "metadata": {},
   "source": [
    "### Streaming the responses"
   ]
  },
  {
   "cell_type": "code",
   "execution_count": 11,
   "id": "8345972e",
   "metadata": {},
   "outputs": [
    {
     "data": {
      "text/plain": [
       "<generator object Pregel.stream at 0x11cce70c0>"
      ]
     },
     "execution_count": 11,
     "metadata": {},
     "output_type": "execute_result"
    }
   ],
   "source": [
    "graph_builder.stream({'messages':'Hello my name is Boon sai'})"
   ]
  },
  {
   "cell_type": "code",
   "execution_count": 12,
   "id": "6857fafc",
   "metadata": {},
   "outputs": [
    {
     "name": "stdout",
     "output_type": "stream",
     "text": [
      "{'SuperBot': {'messages': [AIMessage(content='Nice to meet you, Boon Sai. Is there something I can help you with or would you like to chat?', additional_kwargs={}, response_metadata={'token_usage': {'completion_tokens': 25, 'prompt_tokens': 42, 'total_tokens': 67, 'completion_time': 0.027783371, 'prompt_time': 0.00192144, 'queue_time': 0.052745289, 'total_time': 0.029704811}, 'model_name': 'llama-3.1-8b-instant', 'system_fingerprint': 'fp_50a6be1b6f', 'service_tier': 'on_demand', 'finish_reason': 'stop', 'logprobs': None}, id='run--9c3e7b9c-251f-4f5a-b185-e37975e6be21-0', usage_metadata={'input_tokens': 42, 'output_tokens': 25, 'total_tokens': 67})]}}\n"
     ]
    }
   ],
   "source": [
    "for event in graph_builder.stream({'messages':'Hello my name is Boon sai'}):\n",
    "    print(event)"
   ]
  },
  {
   "cell_type": "code",
   "execution_count": null,
   "id": "96a48951",
   "metadata": {},
   "outputs": [
    {
     "name": "stdout",
     "output_type": "stream",
     "text": [
      "{'messages': [HumanMessage(content='Hello my name is Boon sai', additional_kwargs={}, response_metadata={}, id='c33e02d1-fb7a-4937-b3c4-51f3ddc21ccc')]}\n",
      "{'messages': [HumanMessage(content='Hello my name is Boon sai', additional_kwargs={}, response_metadata={}, id='c33e02d1-fb7a-4937-b3c4-51f3ddc21ccc'), AIMessage(content='Nice to meet you, Boon Sai. Is there something I can help you with or would you like to chat?', additional_kwargs={}, response_metadata={'token_usage': {'completion_tokens': 25, 'prompt_tokens': 42, 'total_tokens': 67, 'completion_time': 0.028668822, 'prompt_time': 0.002276936, 'queue_time': 0.416231003, 'total_time': 0.030945758}, 'model_name': 'llama-3.1-8b-instant', 'system_fingerprint': 'fp_a7a2f9abbf', 'service_tier': 'on_demand', 'finish_reason': 'stop', 'logprobs': None}, id='run--0b3806fe-1725-43eb-9f93-b385e53718a0-0', usage_metadata={'input_tokens': 42, 'output_tokens': 25, 'total_tokens': 67})]}\n"
     ]
    }
   ],
   "source": [
    "# To get human message and as well as AI message, we need to add a parameter 'stream_mode'\n",
    "\n",
    "# default stream_mode=update - it stores the recently added message only\n",
    "\n",
    "for event in graph_builder.stream({'messages':'Hello my name is Boon sai'}, stream_mode=\"values\"):\n",
    "    print(event)"
   ]
  },
  {
   "cell_type": "markdown",
   "id": "736ea4e7",
   "metadata": {},
   "source": [
    "Invocation (invoke)\n",
    "\n",
    "- Sends input to the model and waits until the entire response is generated.\n",
    "\n",
    "- Returns a single, complete response at once.\n",
    "\n",
    "- Simple to use and handle, ideal for short or final results.\n",
    "\n",
    "- Not suitable for real-time display of long responses, as it blocks until finished.\n",
    "\n",
    "Streaming (stream)\n",
    "\n",
    "- Sends input to the model and receives partial outputs as they are generated.\n",
    "\n",
    "- Returns multiple events or chunks of the response over time.\n",
    "\n",
    "- Can display real-time output, making it useful for long responses or typing effects.\n",
    "\n",
    "- Slightly more complex to handle, as you need to process multiple events.\n",
    "\n",
    "- Supports stream_mode=\"update\" for the latest message and stream_mode=\"values\" for both human and AI messages.\n",
    "\n",
    "Summary:\n",
    "\n",
    "invoke gives the full response at once, while stream provides incremental outputs as the model generates them."
   ]
  },
  {
   "cell_type": "code",
   "execution_count": null,
   "id": "5dada4af",
   "metadata": {},
   "outputs": [],
   "source": []
  },
  {
   "cell_type": "code",
   "execution_count": null,
   "id": "078409e8",
   "metadata": {},
   "outputs": [],
   "source": []
  }
 ],
 "metadata": {
  "kernelspec": {
   "display_name": "Python 3",
   "language": "python",
   "name": "python3"
  },
  "language_info": {
   "codemirror_mode": {
    "name": "ipython",
    "version": 3
   },
   "file_extension": ".py",
   "mimetype": "text/x-python",
   "name": "python",
   "nbconvert_exporter": "python",
   "pygments_lexer": "ipython3",
   "version": "3.11.0"
  }
 },
 "nbformat": 4,
 "nbformat_minor": 5
}
