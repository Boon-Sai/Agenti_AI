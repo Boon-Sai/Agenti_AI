{
 "cells": [
  {
   "cell_type": "markdown",
   "id": "5165fdba",
   "metadata": {},
   "source": [
    "# Introduction"
   ]
  },
  {
   "cell_type": "markdown",
   "id": "dba4f732",
   "metadata": {},
   "source": [
    "### Pydantic Basics: Creating and Using Models\n",
    "\n",
    "Pydantic modules are the foundation of data validataion in Python. They use python type annotations to define the structure and validation data at runtime. Here's a detailed exploration of basic model creation with several examples."
   ]
  },
  {
   "cell_type": "code",
   "execution_count": 1,
   "id": "c78fb125",
   "metadata": {},
   "outputs": [],
   "source": [
    "from pydantic import BaseModel \n",
    "\n"
   ]
  },
  {
   "cell_type": "code",
   "execution_count": 2,
   "id": "6e572aad",
   "metadata": {},
   "outputs": [
    {
     "name": "stdout",
     "output_type": "stream",
     "text": [
      "name='Boon sai' age=35 city='Tirupati'\n"
     ]
    }
   ],
   "source": [
    "class Person(BaseModel):\n",
    "    name: str\n",
    "    age: int\n",
    "    city: str\n",
    "\n",
    "person = Person(name=\"Boon sai\", age=35, city=\"Tirupati\")\n",
    "\n",
    "print(person)"
   ]
  },
  {
   "cell_type": "code",
   "execution_count": 3,
   "id": "0f88dc32",
   "metadata": {},
   "outputs": [
    {
     "data": {
      "text/plain": [
       "__main__.Person"
      ]
     },
     "execution_count": 3,
     "metadata": {},
     "output_type": "execute_result"
    }
   ],
   "source": [
    "type(person)"
   ]
  },
  {
   "cell_type": "markdown",
   "id": "dfd7f455",
   "metadata": {},
   "source": [
    "# Difference b/w pydantic and data classes"
   ]
  },
  {
   "cell_type": "markdown",
   "id": "85763da5",
   "metadata": {},
   "source": [
    "differences between pydantic base class and data class"
   ]
  },
  {
   "cell_type": "code",
   "execution_count": 4,
   "id": "992f9d1c",
   "metadata": {},
   "outputs": [
    {
     "name": "stdout",
     "output_type": "stream",
     "text": [
      "Person(name='Boon sai', age=35, city='Tirupati')\n"
     ]
    }
   ],
   "source": [
    "from dataclasses import dataclass\n",
    "\n",
    "@dataclass\n",
    "class Person():\n",
    "    name: str\n",
    "    age: int\n",
    "    city: str\n",
    "person = Person(name=\"Boon sai\", age=35, city=\"Tirupati\")\n",
    "\n",
    "print(person)"
   ]
  },
  {
   "cell_type": "markdown",
   "id": "6d97edd5",
   "metadata": {},
   "source": [
    "here the main difference between the data class and base model is-\n",
    "\n",
    "pydantic does data validation , for every invalid input it returns error \n",
    "\n",
    "here is the example"
   ]
  },
  {
   "cell_type": "code",
   "execution_count": 12,
   "id": "9099ad08",
   "metadata": {},
   "outputs": [
    {
     "name": "stdout",
     "output_type": "stream",
     "text": [
      "Person(name='boon sai', age=23, city='Tirupati')\n",
      "Person(name='boon sai', age=23, city=2378934)\n",
      "----------- \n",
      " A pydantic output\n",
      "name='boon sai' age=23 city='Tirupati'\n"
     ]
    },
    {
     "ename": "ValidationError",
     "evalue": "1 validation error for Person1\ncity\n  Input should be a valid string [type=string_type, input_value=2378934, input_type=int]\n    For further information visit https://errors.pydantic.dev/2.11/v/string_type",
     "output_type": "error",
     "traceback": [
      "\u001b[31m---------------------------------------------------------------------------\u001b[39m",
      "\u001b[31mValidationError\u001b[39m                           Traceback (most recent call last)",
      "\u001b[36mCell\u001b[39m\u001b[36m \u001b[39m\u001b[32mIn[12]\u001b[39m\u001b[32m, line 26\u001b[39m\n\u001b[32m     23\u001b[39m person1 = Person1(name=\u001b[33m\"\u001b[39m\u001b[33mboon sai\u001b[39m\u001b[33m\"\u001b[39m, age = \u001b[33m'\u001b[39m\u001b[33m23\u001b[39m\u001b[33m'\u001b[39m, city=\u001b[33m\"\u001b[39m\u001b[33mTirupati\u001b[39m\u001b[33m\"\u001b[39m) \u001b[38;5;66;03m# Pydantic can able to typecast from str -> int / float if it is a number , but not int/float -> str\u001b[39;00m\n\u001b[32m     24\u001b[39m \u001b[38;5;28mprint\u001b[39m(person1)\n\u001b[32m---> \u001b[39m\u001b[32m26\u001b[39m person2 = \u001b[43mPerson1\u001b[49m\u001b[43m(\u001b[49m\u001b[43mname\u001b[49m\u001b[43m=\u001b[49m\u001b[33;43m\"\u001b[39;49m\u001b[33;43mboon sai\u001b[39;49m\u001b[33;43m\"\u001b[39;49m\u001b[43m,\u001b[49m\u001b[43m \u001b[49m\u001b[43mage\u001b[49m\u001b[43m=\u001b[49m\u001b[32;43m23\u001b[39;49m\u001b[43m,\u001b[49m\u001b[43m \u001b[49m\u001b[43mcity\u001b[49m\u001b[43m=\u001b[49m\u001b[32;43m2378934\u001b[39;49m\u001b[43m)\u001b[49m \u001b[38;5;66;03m# here from number -> str it wont convert it gives you error\u001b[39;00m\n\u001b[32m     27\u001b[39m \u001b[38;5;28mprint\u001b[39m(person2) \n",
      "\u001b[36mFile \u001b[39m\u001b[32m~/Desktop/Agentic/venv/lib/python3.11/site-packages/pydantic/main.py:253\u001b[39m, in \u001b[36mBaseModel.__init__\u001b[39m\u001b[34m(self, **data)\u001b[39m\n\u001b[32m    251\u001b[39m \u001b[38;5;66;03m# `__tracebackhide__` tells pytest and some other tools to omit this function from tracebacks\u001b[39;00m\n\u001b[32m    252\u001b[39m __tracebackhide__ = \u001b[38;5;28;01mTrue\u001b[39;00m\n\u001b[32m--> \u001b[39m\u001b[32m253\u001b[39m validated_self = \u001b[38;5;28;43mself\u001b[39;49m\u001b[43m.\u001b[49m\u001b[43m__pydantic_validator__\u001b[49m\u001b[43m.\u001b[49m\u001b[43mvalidate_python\u001b[49m\u001b[43m(\u001b[49m\u001b[43mdata\u001b[49m\u001b[43m,\u001b[49m\u001b[43m \u001b[49m\u001b[43mself_instance\u001b[49m\u001b[43m=\u001b[49m\u001b[38;5;28;43mself\u001b[39;49m\u001b[43m)\u001b[49m\n\u001b[32m    254\u001b[39m \u001b[38;5;28;01mif\u001b[39;00m \u001b[38;5;28mself\u001b[39m \u001b[38;5;129;01mis\u001b[39;00m \u001b[38;5;129;01mnot\u001b[39;00m validated_self:\n\u001b[32m    255\u001b[39m     warnings.warn(\n\u001b[32m    256\u001b[39m         \u001b[33m'\u001b[39m\u001b[33mA custom validator is returning a value other than `self`.\u001b[39m\u001b[38;5;130;01m\\n\u001b[39;00m\u001b[33m'\u001b[39m\n\u001b[32m    257\u001b[39m         \u001b[33m\"\u001b[39m\u001b[33mReturning anything other than `self` from a top level model validator isn\u001b[39m\u001b[33m'\u001b[39m\u001b[33mt supported when validating via `__init__`.\u001b[39m\u001b[38;5;130;01m\\n\u001b[39;00m\u001b[33m\"\u001b[39m\n\u001b[32m    258\u001b[39m         \u001b[33m'\u001b[39m\u001b[33mSee the `model_validator` docs (https://docs.pydantic.dev/latest/concepts/validators/#model-validators) for more details.\u001b[39m\u001b[33m'\u001b[39m,\n\u001b[32m    259\u001b[39m         stacklevel=\u001b[32m2\u001b[39m,\n\u001b[32m    260\u001b[39m     )\n",
      "\u001b[31mValidationError\u001b[39m: 1 validation error for Person1\ncity\n  Input should be a valid string [type=string_type, input_value=2378934, input_type=int]\n    For further information visit https://errors.pydantic.dev/2.11/v/string_type"
     ]
    }
   ],
   "source": [
    "# data classes\n",
    "@dataclass\n",
    "class Person:\n",
    "    name: str\n",
    "    age: int\n",
    "    city: str\n",
    "\n",
    "\n",
    "# pydantic class\n",
    "\n",
    "class Person1(BaseModel):\n",
    "    name: str\n",
    "    age: int\n",
    "    city: str\n",
    "\n",
    "\n",
    "person = Person(name=\"boon sai\", age=23, city=\"Tirupati\")\n",
    "print(person)\n",
    "\n",
    "person2 = Person(name=\"boon sai\", age=23, city=2378934) # it wont give you error\n",
    "print(person2)\n",
    "print('----------- \\n A pydantic output')\n",
    "person1 = Person1(name=\"boon sai\", age = '23', city=\"Tirupati\") # Pydantic can able to typecast from str -> int / float if it is a number , but not int/float -> str\n",
    "print(person1)\n",
    "\n",
    "person2 = Person1(name=\"boon sai\", age=23, city=2378934) # here from number -> str it wont convert it gives you error\n",
    "print(person2) "
   ]
  },
  {
   "cell_type": "markdown",
   "id": "42f10c97",
   "metadata": {},
   "source": [
    "# Model with optional fields\n",
    "Add optional fields using Python's optional type:"
   ]
  },
  {
   "cell_type": "code",
   "execution_count": 13,
   "id": "fb65a1ac",
   "metadata": {},
   "outputs": [],
   "source": [
    "from typing import Optional\n",
    "\n",
    "class Employee(BaseModel):\n",
    "    id: int\n",
    "    name: str\n",
    "    department: str\n",
    "    salary: Optional[float] = None # Optional with default value None\n",
    "    is_active: Optional[bool] = True # Optional with default value True\n"
   ]
  },
  {
   "cell_type": "code",
   "execution_count": 15,
   "id": "fd3655f1",
   "metadata": {},
   "outputs": [
    {
     "name": "stdout",
     "output_type": "stream",
     "text": [
      "id=1 name='John' department='IT' salary=None is_active=True\n"
     ]
    }
   ],
   "source": [
    "# Examples with and without optional fields\n",
    "emp1 = Employee(id=1, name=\"John\", department=\"IT\")\n",
    "print(emp1) # id=1 name='John' department='IT' salary=None is_active=True"
   ]
  },
  {
   "cell_type": "code",
   "execution_count": 16,
   "id": "98239d7c",
   "metadata": {},
   "outputs": [
    {
     "name": "stdout",
     "output_type": "stream",
     "text": [
      "id=2 name='john' department='IT' salary=60000.0 is_active=False\n"
     ]
    }
   ],
   "source": [
    "emp2 = Employee(id=2, name=\"john\", department='IT', salary=60000, is_active=False)\n",
    "print(emp2) # here salary does automatic type-casting float -> int"
   ]
  },
  {
   "cell_type": "markdown",
   "id": "93bee533",
   "metadata": {},
   "source": [
    "Definition:\n",
    "- Optional[type]: indicates the field can be None\n",
    "- Default value(= None or = True): Makes the field optional\n",
    "- Required fields must stll be provided\n",
    "- Pydantic validates types even for optional fields when values are provided"
   ]
  },
  {
   "cell_type": "code",
   "execution_count": 28,
   "id": "1b57ba46",
   "metadata": {},
   "outputs": [],
   "source": [
    "from pydantic import BaseModel\n",
    "from typing import List\n",
    "\n",
    "class Classroom(BaseModel):\n",
    "    room_number: str\n",
    "    students: list[str] # list of strings\n",
    "    capacity: int"
   ]
  },
  {
   "cell_type": "code",
   "execution_count": 29,
   "id": "7b5d82e5",
   "metadata": {},
   "outputs": [
    {
     "name": "stdout",
     "output_type": "stream",
     "text": [
      "room_number='A101' students=['ALice', 'Bob', 'Charlie'] capacity=30\n"
     ]
    }
   ],
   "source": [
    "classroom  = Classroom(\n",
    "    room_number=\"A101\",\n",
    "    students=['ALice', 'Bob', 'Charlie'],\n",
    "    capacity=30\n",
    ")\n",
    "print(classroom)"
   ]
  },
  {
   "cell_type": "markdown",
   "id": "14c11512",
   "metadata": {},
   "source": [
    "it can type cast from list to tuple / sets , but not like dictionary\n",
    "\n",
    "type castings possible\n",
    "\n",
    "- list -> tuple\n",
    "- list -> set\n",
    "- set -> list\n",
    "- set -> tuple\n",
    "\n",
    "but not \n",
    "\n",
    "- tuple -> list\n",
    "- tuple -> set"
   ]
  },
  {
   "cell_type": "code",
   "execution_count": 30,
   "id": "8f4ed439",
   "metadata": {},
   "outputs": [
    {
     "name": "stdout",
     "output_type": "stream",
     "text": [
      "room_number='A101' students=['Charlie', 'Bob', 'ALice'] capacity=30\n",
      "room_number='A101' students=['ALice', 'Bob', 'Charlie'] capacity=30\n"
     ]
    }
   ],
   "source": [
    "classroom  = Classroom(\n",
    "    room_number=\"A101\",\n",
    "    students={'ALice', 'Bob', 'Charlie'},\n",
    "    capacity=30\n",
    ")\n",
    "print(classroom)\n",
    "\n",
    "classroom  = Classroom(\n",
    "    room_number=\"A101\",\n",
    "    students=('ALice', 'Bob', 'Charlie'),\n",
    "    capacity=30\n",
    ")\n",
    "print(classroom)"
   ]
  },
  {
   "cell_type": "code",
   "execution_count": 32,
   "id": "68b6b8b2",
   "metadata": {},
   "outputs": [
    {
     "name": "stdout",
     "output_type": "stream",
     "text": [
      "1 validation error for Classroom\n",
      "students.1\n",
      "  Input should be a valid string [type=string_type, input_value=123, input_type=int]\n",
      "    For further information visit https://errors.pydantic.dev/2.11/v/string_type\n"
     ]
    }
   ],
   "source": [
    "try:\n",
    "    invalid_val = Classroom(room_number='A1', students=['ram', 123], capacity=30)\n",
    "\n",
    "except ValueError as e:\n",
    "    print(e)\n",
    "\n",
    "# here pydantic raises error"
   ]
  },
  {
   "cell_type": "markdown",
   "id": "7d18899b",
   "metadata": {},
   "source": [
    "# Models with Nested Models\n",
    "\n",
    "Create complex structures with nested models"
   ]
  },
  {
   "cell_type": "code",
   "execution_count": 37,
   "id": "06882aed",
   "metadata": {},
   "outputs": [
    {
     "name": "stdout",
     "output_type": "stream",
     "text": [
      "customer_id=1 name='Emma' address=Address(street='123 Main st', city='Boston', zip_code=1234)\n"
     ]
    }
   ],
   "source": [
    "from pydantic import BaseModel\n",
    "\n",
    "class Address(BaseModel):\n",
    "    street: str\n",
    "    city: str\n",
    "    zip_code: int\n",
    "\n",
    "class Customer(BaseModel):\n",
    "    customer_id: int\n",
    "    name: str\n",
    "    address: Address # Nested Model\n",
    "\n",
    "customer = Customer(\n",
    "    customer_id=1,\n",
    "    name=\"Emma\",\n",
    "    address={\"street\": '123 Main st', 'city': 'Boston', 'zip_code': '01234'} # here all the parameters are taken in terms of dictionary and even it is converting the str -> int\n",
    "\n",
    ")\n",
    "\n",
    "print(customer)"
   ]
  },
  {
   "cell_type": "markdown",
   "id": "681c2b71",
   "metadata": {},
   "source": [
    "# Pydantic Fields: Customization and Constraints\n",
    "\n",
    "The Field function in pydantic enhances model fields beyond basic type hints by allowing you to specify validation rules, default values, aliases, and more. Here's comprehensive tutorial with examples."
   ]
  },
  {
   "cell_type": "code",
   "execution_count": 41,
   "id": "885889e0",
   "metadata": {},
   "outputs": [
    {
     "name": "stdout",
     "output_type": "stream",
     "text": [
      "name='book' price=10.0 quantity=10\n"
     ]
    },
    {
     "ename": "ValidationError",
     "evalue": "1 validation error for Item\nprice\n  Input should be greater than 0 [type=greater_than, input_value=-1, input_type=int]\n    For further information visit https://errors.pydantic.dev/2.11/v/greater_than",
     "output_type": "error",
     "traceback": [
      "\u001b[31m---------------------------------------------------------------------------\u001b[39m",
      "\u001b[31mValidationError\u001b[39m                           Traceback (most recent call last)",
      "\u001b[36mCell\u001b[39m\u001b[36m \u001b[39m\u001b[32mIn[41]\u001b[39m\u001b[32m, line 11\u001b[39m\n\u001b[32m      8\u001b[39m item = Item(name=\u001b[33m\"\u001b[39m\u001b[33mbook\u001b[39m\u001b[33m\"\u001b[39m, price=\u001b[32m10\u001b[39m, quantity=\u001b[32m10\u001b[39m)\n\u001b[32m      9\u001b[39m \u001b[38;5;28mprint\u001b[39m(item)\n\u001b[32m---> \u001b[39m\u001b[32m11\u001b[39m item = \u001b[43mItem\u001b[49m\u001b[43m(\u001b[49m\u001b[43mname\u001b[49m\u001b[43m=\u001b[49m\u001b[33;43m\"\u001b[39;49m\u001b[33;43mbook\u001b[39;49m\u001b[33;43m\"\u001b[39;49m\u001b[43m,\u001b[49m\u001b[43m \u001b[49m\u001b[43mprice\u001b[49m\u001b[43m=\u001b[49m\u001b[43m-\u001b[49m\u001b[32;43m1\u001b[39;49m\u001b[43m,\u001b[49m\u001b[43m \u001b[49m\u001b[43mquantity\u001b[49m\u001b[43m=\u001b[49m\u001b[32;43m10\u001b[39;49m\u001b[43m)\u001b[49m \u001b[38;5;66;03m# it gives error\u001b[39;00m\n\u001b[32m     12\u001b[39m \u001b[38;5;28mprint\u001b[39m(item)\n",
      "\u001b[36mFile \u001b[39m\u001b[32m~/Desktop/Agentic/venv/lib/python3.11/site-packages/pydantic/main.py:253\u001b[39m, in \u001b[36mBaseModel.__init__\u001b[39m\u001b[34m(self, **data)\u001b[39m\n\u001b[32m    251\u001b[39m \u001b[38;5;66;03m# `__tracebackhide__` tells pytest and some other tools to omit this function from tracebacks\u001b[39;00m\n\u001b[32m    252\u001b[39m __tracebackhide__ = \u001b[38;5;28;01mTrue\u001b[39;00m\n\u001b[32m--> \u001b[39m\u001b[32m253\u001b[39m validated_self = \u001b[38;5;28;43mself\u001b[39;49m\u001b[43m.\u001b[49m\u001b[43m__pydantic_validator__\u001b[49m\u001b[43m.\u001b[49m\u001b[43mvalidate_python\u001b[49m\u001b[43m(\u001b[49m\u001b[43mdata\u001b[49m\u001b[43m,\u001b[49m\u001b[43m \u001b[49m\u001b[43mself_instance\u001b[49m\u001b[43m=\u001b[49m\u001b[38;5;28;43mself\u001b[39;49m\u001b[43m)\u001b[49m\n\u001b[32m    254\u001b[39m \u001b[38;5;28;01mif\u001b[39;00m \u001b[38;5;28mself\u001b[39m \u001b[38;5;129;01mis\u001b[39;00m \u001b[38;5;129;01mnot\u001b[39;00m validated_self:\n\u001b[32m    255\u001b[39m     warnings.warn(\n\u001b[32m    256\u001b[39m         \u001b[33m'\u001b[39m\u001b[33mA custom validator is returning a value other than `self`.\u001b[39m\u001b[38;5;130;01m\\n\u001b[39;00m\u001b[33m'\u001b[39m\n\u001b[32m    257\u001b[39m         \u001b[33m\"\u001b[39m\u001b[33mReturning anything other than `self` from a top level model validator isn\u001b[39m\u001b[33m'\u001b[39m\u001b[33mt supported when validating via `__init__`.\u001b[39m\u001b[38;5;130;01m\\n\u001b[39;00m\u001b[33m\"\u001b[39m\n\u001b[32m    258\u001b[39m         \u001b[33m'\u001b[39m\u001b[33mSee the `model_validator` docs (https://docs.pydantic.dev/latest/concepts/validators/#model-validators) for more details.\u001b[39m\u001b[33m'\u001b[39m,\n\u001b[32m    259\u001b[39m         stacklevel=\u001b[32m2\u001b[39m,\n\u001b[32m    260\u001b[39m     )\n",
      "\u001b[31mValidationError\u001b[39m: 1 validation error for Item\nprice\n  Input should be greater than 0 [type=greater_than, input_value=-1, input_type=int]\n    For further information visit https://errors.pydantic.dev/2.11/v/greater_than"
     ]
    }
   ],
   "source": [
    "from pydantic import BaseModel, Field\n",
    "\n",
    "class Item(BaseModel):\n",
    "    name: str = Field(min_length=2, max_length=50)\n",
    "    price: float = Field(gt=0, le=100) # gt= greater than, le= less that\n",
    "    quantity: int = Field(ge=0) # ge = greater than or equal to\n",
    "\n",
    "item = Item(name=\"book\", price=10, quantity=10)\n",
    "print(item)\n",
    "\n",
    "item = Item(name=\"book\", price=-1, quantity=10) # it gives error\n",
    "print(item)"
   ]
  },
  {
   "cell_type": "code",
   "execution_count": 42,
   "id": "c924c591",
   "metadata": {},
   "outputs": [
    {
     "name": "stdout",
     "output_type": "stream",
     "text": [
      "user_name='alice' age=18 email='user@example.com'\n",
      "user_name='bob' age=25 email='bob@domain.com'\n"
     ]
    }
   ],
   "source": [
    "class User(BaseModel):\n",
    "    user_name : str = Field(..., description=\"Unique username for the user\")\n",
    "    age: int = Field(default=18, description=\"User age, defaults to 18\")\n",
    "    email: str = Field(default_factory=lambda: \"user@example.com\", description= \"Default email address\")\n",
    "\n",
    "# Examples\n",
    "user1 = User(user_name='alice')\n",
    "print(user1)\n",
    "\n",
    "user2 = User(user_name='bob', age=25, email='bob@domain.com')\n",
    "print(user2)"
   ]
  },
  {
   "cell_type": "markdown",
   "id": "bb20ad32",
   "metadata": {},
   "source": [
    "# you can even get schema in terms of json\n",
    "\n",
    "it makes the developer to understand what kind of request is sending"
   ]
  },
  {
   "cell_type": "code",
   "execution_count": 44,
   "id": "fbb9c56d",
   "metadata": {},
   "outputs": [
    {
     "name": "stdout",
     "output_type": "stream",
     "text": [
      "{'properties': {'user_name': {'description': 'Unique username for the user', 'title': 'User Name', 'type': 'string'}, 'age': {'default': 18, 'description': 'User age, defaults to 18', 'title': 'Age', 'type': 'integer'}, 'email': {'description': 'Default email address', 'title': 'Email', 'type': 'string'}}, 'required': ['user_name'], 'title': 'User', 'type': 'object'}\n"
     ]
    }
   ],
   "source": [
    "print(User.model_json_schema())"
   ]
  },
  {
   "cell_type": "code",
   "execution_count": null,
   "id": "c7d7a9d6",
   "metadata": {},
   "outputs": [],
   "source": []
  }
 ],
 "metadata": {
  "kernelspec": {
   "display_name": "Python 3",
   "language": "python",
   "name": "python3"
  },
  "language_info": {
   "codemirror_mode": {
    "name": "ipython",
    "version": 3
   },
   "file_extension": ".py",
   "mimetype": "text/x-python",
   "name": "python",
   "nbconvert_exporter": "python",
   "pygments_lexer": "ipython3",
   "version": "3.11.0"
  }
 },
 "nbformat": 4,
 "nbformat_minor": 5
}
